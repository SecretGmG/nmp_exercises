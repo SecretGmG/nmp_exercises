{
 "cells": [
  {
   "cell_type": "code",
   "execution_count": 1,
   "id": "b73d93cb",
   "metadata": {},
   "outputs": [],
   "source": [
    "import numpy as np\n",
    "import nmp_util\n",
    "import sympy\n",
    "import seaborn as sns\n",
    "import matplotlib.pyplot as plt\n",
    "import pandas as pd\n",
    "from scipy import sparse"
   ]
  },
  {
   "cell_type": "code",
   "execution_count": 2,
   "id": "48449300",
   "metadata": {},
   "outputs": [
    {
     "data": {
      "application/vnd.microsoft.datawrangler.viewer.v0+json": {
       "columns": [
        {
         "name": "index",
         "rawType": "int64",
         "type": "integer"
        },
        {
         "name": "I",
         "rawType": "float64",
         "type": "float"
        },
        {
         "name": "z",
         "rawType": "float64",
         "type": "float"
        },
        {
         "name": "s_z",
         "rawType": "float64",
         "type": "float"
        }
       ],
       "conversionMethod": "pd.DataFrame",
       "ref": "79eae557-df03-4752-8719-80c61353d91d",
       "rows": [
        [
         "1",
         "0.05",
         "27.0",
         "3.6"
        ],
        [
         "2",
         "0.1",
         "59.0",
         "5.4"
        ],
        [
         "3",
         "0.15",
         "146.0",
         "8.5"
        ],
        [
         "4",
         "0.17",
         "183.0",
         "7.8"
        ],
        [
         "5",
         "0.2",
         "228.0",
         "10.7"
        ],
        [
         "6",
         "0.22",
         "228.0",
         "10.7"
        ],
        [
         "7",
         "0.25",
         "268.0",
         "9.5"
        ],
        [
         "8",
         "0.27",
         "268.5",
         "8.8"
        ],
        [
         "9",
         "0.3",
         "277.0",
         "11.8"
        ],
        [
         "10",
         "0.32",
         "283.5",
         "11.9"
        ],
        [
         "11",
         "0.34",
         "291.0",
         "8.5"
        ],
        [
         "12",
         "0.35",
         "302.5",
         "12.3"
        ],
        [
         "13",
         "0.37",
         "269.5",
         "11.6"
        ],
        [
         "14",
         "0.4",
         "223.0",
         "10.6"
        ],
        [
         "15",
         "0.42",
         "230.0",
         "10.7"
        ],
        [
         "16",
         "0.45",
         "151.0",
         "8.6"
        ],
        [
         "17",
         "0.5",
         "85.0",
         "5.3"
        ],
        [
         "18",
         "0.55",
         "85.6",
         "5.3"
        ],
        [
         "19",
         "0.58",
         "191.6",
         "8.0"
        ],
        [
         "20",
         "0.6",
         "289.5",
         "12.0"
        ],
        [
         "21",
         "0.62",
         "239.5",
         "10.9"
        ],
        [
         "22",
         "0.65",
         "93.5",
         "6.8"
        ],
        [
         "23",
         "0.7",
         "33.0",
         "4.1"
        ],
        [
         "24",
         "0.75",
         "26.5",
         "3.6"
        ],
        [
         "25",
         "0.8",
         "25.0",
         "3.5"
        ],
        [
         "26",
         "0.85",
         "23.5",
         "3.4"
        ],
        [
         "27",
         "0.9",
         "22.0",
         "3.3"
        ],
        [
         "28",
         "0.95",
         "24.5",
         "3.5"
        ],
        [
         "29",
         "1.0",
         "25.0",
         "3.5"
        ]
       ],
       "shape": {
        "columns": 3,
        "rows": 29
       }
      },
      "text/html": [
       "<div>\n",
       "<style scoped>\n",
       "    .dataframe tbody tr th:only-of-type {\n",
       "        vertical-align: middle;\n",
       "    }\n",
       "\n",
       "    .dataframe tbody tr th {\n",
       "        vertical-align: top;\n",
       "    }\n",
       "\n",
       "    .dataframe thead th {\n",
       "        text-align: right;\n",
       "    }\n",
       "</style>\n",
       "<table border=\"1\" class=\"dataframe\">\n",
       "  <thead>\n",
       "    <tr style=\"text-align: right;\">\n",
       "      <th></th>\n",
       "      <th>I</th>\n",
       "      <th>z</th>\n",
       "      <th>s_z</th>\n",
       "    </tr>\n",
       "  </thead>\n",
       "  <tbody>\n",
       "    <tr>\n",
       "      <th>1</th>\n",
       "      <td>0.05</td>\n",
       "      <td>27.0</td>\n",
       "      <td>3.6</td>\n",
       "    </tr>\n",
       "    <tr>\n",
       "      <th>2</th>\n",
       "      <td>0.10</td>\n",
       "      <td>59.0</td>\n",
       "      <td>5.4</td>\n",
       "    </tr>\n",
       "    <tr>\n",
       "      <th>3</th>\n",
       "      <td>0.15</td>\n",
       "      <td>146.0</td>\n",
       "      <td>8.5</td>\n",
       "    </tr>\n",
       "    <tr>\n",
       "      <th>4</th>\n",
       "      <td>0.17</td>\n",
       "      <td>183.0</td>\n",
       "      <td>7.8</td>\n",
       "    </tr>\n",
       "    <tr>\n",
       "      <th>5</th>\n",
       "      <td>0.20</td>\n",
       "      <td>228.0</td>\n",
       "      <td>10.7</td>\n",
       "    </tr>\n",
       "    <tr>\n",
       "      <th>6</th>\n",
       "      <td>0.22</td>\n",
       "      <td>228.0</td>\n",
       "      <td>10.7</td>\n",
       "    </tr>\n",
       "    <tr>\n",
       "      <th>7</th>\n",
       "      <td>0.25</td>\n",
       "      <td>268.0</td>\n",
       "      <td>9.5</td>\n",
       "    </tr>\n",
       "    <tr>\n",
       "      <th>8</th>\n",
       "      <td>0.27</td>\n",
       "      <td>268.5</td>\n",
       "      <td>8.8</td>\n",
       "    </tr>\n",
       "    <tr>\n",
       "      <th>9</th>\n",
       "      <td>0.30</td>\n",
       "      <td>277.0</td>\n",
       "      <td>11.8</td>\n",
       "    </tr>\n",
       "    <tr>\n",
       "      <th>10</th>\n",
       "      <td>0.32</td>\n",
       "      <td>283.5</td>\n",
       "      <td>11.9</td>\n",
       "    </tr>\n",
       "    <tr>\n",
       "      <th>11</th>\n",
       "      <td>0.34</td>\n",
       "      <td>291.0</td>\n",
       "      <td>8.5</td>\n",
       "    </tr>\n",
       "    <tr>\n",
       "      <th>12</th>\n",
       "      <td>0.35</td>\n",
       "      <td>302.5</td>\n",
       "      <td>12.3</td>\n",
       "    </tr>\n",
       "    <tr>\n",
       "      <th>13</th>\n",
       "      <td>0.37</td>\n",
       "      <td>269.5</td>\n",
       "      <td>11.6</td>\n",
       "    </tr>\n",
       "    <tr>\n",
       "      <th>14</th>\n",
       "      <td>0.40</td>\n",
       "      <td>223.0</td>\n",
       "      <td>10.6</td>\n",
       "    </tr>\n",
       "    <tr>\n",
       "      <th>15</th>\n",
       "      <td>0.42</td>\n",
       "      <td>230.0</td>\n",
       "      <td>10.7</td>\n",
       "    </tr>\n",
       "    <tr>\n",
       "      <th>16</th>\n",
       "      <td>0.45</td>\n",
       "      <td>151.0</td>\n",
       "      <td>8.6</td>\n",
       "    </tr>\n",
       "    <tr>\n",
       "      <th>17</th>\n",
       "      <td>0.50</td>\n",
       "      <td>85.0</td>\n",
       "      <td>5.3</td>\n",
       "    </tr>\n",
       "    <tr>\n",
       "      <th>18</th>\n",
       "      <td>0.55</td>\n",
       "      <td>85.6</td>\n",
       "      <td>5.3</td>\n",
       "    </tr>\n",
       "    <tr>\n",
       "      <th>19</th>\n",
       "      <td>0.58</td>\n",
       "      <td>191.6</td>\n",
       "      <td>8.0</td>\n",
       "    </tr>\n",
       "    <tr>\n",
       "      <th>20</th>\n",
       "      <td>0.60</td>\n",
       "      <td>289.5</td>\n",
       "      <td>12.0</td>\n",
       "    </tr>\n",
       "    <tr>\n",
       "      <th>21</th>\n",
       "      <td>0.62</td>\n",
       "      <td>239.5</td>\n",
       "      <td>10.9</td>\n",
       "    </tr>\n",
       "    <tr>\n",
       "      <th>22</th>\n",
       "      <td>0.65</td>\n",
       "      <td>93.5</td>\n",
       "      <td>6.8</td>\n",
       "    </tr>\n",
       "    <tr>\n",
       "      <th>23</th>\n",
       "      <td>0.70</td>\n",
       "      <td>33.0</td>\n",
       "      <td>4.1</td>\n",
       "    </tr>\n",
       "    <tr>\n",
       "      <th>24</th>\n",
       "      <td>0.75</td>\n",
       "      <td>26.5</td>\n",
       "      <td>3.6</td>\n",
       "    </tr>\n",
       "    <tr>\n",
       "      <th>25</th>\n",
       "      <td>0.80</td>\n",
       "      <td>25.0</td>\n",
       "      <td>3.5</td>\n",
       "    </tr>\n",
       "    <tr>\n",
       "      <th>26</th>\n",
       "      <td>0.85</td>\n",
       "      <td>23.5</td>\n",
       "      <td>3.4</td>\n",
       "    </tr>\n",
       "    <tr>\n",
       "      <th>27</th>\n",
       "      <td>0.90</td>\n",
       "      <td>22.0</td>\n",
       "      <td>3.3</td>\n",
       "    </tr>\n",
       "    <tr>\n",
       "      <th>28</th>\n",
       "      <td>0.95</td>\n",
       "      <td>24.5</td>\n",
       "      <td>3.5</td>\n",
       "    </tr>\n",
       "    <tr>\n",
       "      <th>29</th>\n",
       "      <td>1.00</td>\n",
       "      <td>25.0</td>\n",
       "      <td>3.5</td>\n",
       "    </tr>\n",
       "  </tbody>\n",
       "</table>\n",
       "</div>"
      ],
      "text/plain": [
       "       I      z   s_z\n",
       "1   0.05   27.0   3.6\n",
       "2   0.10   59.0   5.4\n",
       "3   0.15  146.0   8.5\n",
       "4   0.17  183.0   7.8\n",
       "5   0.20  228.0  10.7\n",
       "6   0.22  228.0  10.7\n",
       "7   0.25  268.0   9.5\n",
       "8   0.27  268.5   8.8\n",
       "9   0.30  277.0  11.8\n",
       "10  0.32  283.5  11.9\n",
       "11  0.34  291.0   8.5\n",
       "12  0.35  302.5  12.3\n",
       "13  0.37  269.5  11.6\n",
       "14  0.40  223.0  10.6\n",
       "15  0.42  230.0  10.7\n",
       "16  0.45  151.0   8.6\n",
       "17  0.50   85.0   5.3\n",
       "18  0.55   85.6   5.3\n",
       "19  0.58  191.6   8.0\n",
       "20  0.60  289.5  12.0\n",
       "21  0.62  239.5  10.9\n",
       "22  0.65   93.5   6.8\n",
       "23  0.70   33.0   4.1\n",
       "24  0.75   26.5   3.6\n",
       "25  0.80   25.0   3.5\n",
       "26  0.85   23.5   3.4\n",
       "27  0.90   22.0   3.3\n",
       "28  0.95   24.5   3.5\n",
       "29  1.00   25.0   3.5"
      ]
     },
     "metadata": {},
     "output_type": "display_data"
    }
   ],
   "source": [
    "data = pd.read_csv('serie4-observationsobs.sec', delimiter = r'\\s+', names = ['I', 'z' , 's_z'], skiprows = [0])\n",
    "display(data)"
   ]
  },
  {
   "cell_type": "code",
   "execution_count": 3,
   "id": "5c06236d",
   "metadata": {},
   "outputs": [
    {
     "data": {
      "image/png": "[encoded data removed]",
      "text/plain": [
       "<Figure size 640x480 with 1 Axes>"
      ]
     },
     "metadata": {},
     "output_type": "display_data"
    }
   ],
   "source": [
    "sns.set_theme()\n",
    "plt.xlabel('I [A]')\n",
    "plt.ylabel('z [1/min]')\n",
    "plt.errorbar(data['I'], data['z'], data['s_z'], fmt='.', label = 'Data')\n",
    "plt.legend()\n",
    "plt.show()"
   ]
  },
  {
   "cell_type": "markdown",
   "id": "830d438b",
   "metadata": {},
   "source": [
    "# Define the functional model with sympy"
   ]
  },
  {
   "cell_type": "code",
   "execution_count": 4,
   "id": "b19d2d8b",
   "metadata": {},
   "outputs": [
    {
     "data": {
      "text/latex": [
       "$\\displaystyle a_{0} + \\left(\\frac{a_{1}}{\\sigma_{1} \\sqrt{2 \\pi}} e^{\\frac{\\left(-1\\right) \\left(I - \\mu_{1}\\right)^{2}}{2 \\sigma_{1}^{2}}} + \\frac{a_{2}}{\\sigma_{2} \\sqrt{2 \\pi}} e^{\\frac{\\left(-1\\right) \\left(I - \\mu_{2}\\right)^{2}}{2 \\sigma_{2}^{2}}}\\right)$"
      ],
      "text/plain": [
       "a_0 + ((a_1/((sigma_1*sqrt(2*pi))))*exp((-(I - mu_1)**2)/((2*sigma_1**2))) + (a_2/((sigma_2*sqrt(2*pi))))*exp((-(I - mu_2)**2)/((2*sigma_2**2))))"
      ]
     },
     "metadata": {},
     "output_type": "display_data"
    }
   ],
   "source": [
    "a_0, a_1, a_2, sigma_1, sigma_2, mu_1, mu_2, I = sympy.symbols('a_0, a_1, a_2, sigma_1, sigma_2, mu_1, mu_2, I')\n",
    "\n",
    "with sympy.evaluate(False):\n",
    "    sqrt2pi = sympy.sqrt(2*sympy.pi)\n",
    "    functional_model_expr = \\\n",
    "        a_1 / (sqrt2pi * sigma_1) * sympy.exp(-(I-mu_1)**2 / (2 * sigma_1**2)) +\\\n",
    "        a_2 / (sqrt2pi * sigma_2) * sympy.exp(-(I-mu_2)**2 / (2 * sigma_2**2)) + a_0\n",
    "\n",
    "display(functional_model_expr)"
   ]
  },
  {
   "cell_type": "code",
   "execution_count": 5,
   "id": "246f6c6d",
   "metadata": {},
   "outputs": [
    {
     "name": "stdout",
     "output_type": "stream",
     "text": [
      "Itaration: 1, m_0: 5.15\n",
      "Itaration: 2, m_0: 2.42\n",
      "Itaration: 3, m_0: 2.00\n",
      "Itaration: 4, m_0: 1.99\n",
      "Itaration: 5, m_0: 1.99\n",
      "Itaration: 6, m_0: 1.99\n",
      "Itaration: 7, m_0: 1.99\n",
      "Itaration: 8, m_0: 1.99\n",
      "Itaration: 9, m_0: 1.99\n",
      "Itaration:10, m_0: 1.99\n",
      "sigma_0 = 1\n",
      "m_0 = 1.9870501831782674\n",
      "sigma_0 / m_0 = 0.50\n",
      "sigma = 1.99\n",
      "degrees of freedom f = 22\n",
      "parameters:\n"
     ]
    },
    {
     "data": {
      "text/plain": [
       "array([2.32548688e+01, 7.91245710e+01, 1.69971532e+01, 1.12614854e-01, 2.73968319e-02, 3.09340635e-01, 6.05751447e-01])"
      ]
     },
     "metadata": {},
     "output_type": "display_data"
    },
    {
     "name": "stdout",
     "output_type": "stream",
     "text": [
      "parameter covariance:\n"
     ]
    },
    {
     "data": {
      "text/plain": [
       "array([[ 6.89661893e+00, -4.05491915e+00, -6.43820741e-01, -3.68454839e-03, -6.11129637e-04,  2.92255616e-04, -3.31797726e-04],\n",
       "       [-4.05491915e+00,  7.46145155e+00, -7.33723995e-02,  6.35501279e-03, -2.97610322e-04,  7.24198432e-04,  6.88542228e-04],\n",
       "       [-6.43820741e-01, -7.33723995e-02,  1.18897467e+00, -7.17584401e-04,  8.46319835e-04, -7.12684280e-04,  2.15673935e-04],\n",
       "       [-3.68454839e-03,  6.35501279e-03, -7.17584401e-04,  1.43712709e-05, -1.15259786e-06,  1.62584351e-06,  1.26888944e-06],\n",
       "       [-6.11129637e-04, -2.97610322e-04,  8.46319835e-04, -1.15259786e-06,  3.17483670e-06, -1.06763624e-06,  2.15100706e-08],\n",
       "       [ 2.92255616e-04,  7.24198432e-04, -7.12684280e-04,  1.62584351e-06, -1.06763624e-06,  1.44371141e-05,  7.88840237e-07],\n",
       "       [-3.31797726e-04,  6.88542228e-04,  2.15673935e-04,  1.26888944e-06,  2.15100706e-08,  7.88840237e-07,  3.63386536e-06]])"
      ]
     },
     "metadata": {},
     "output_type": "display_data"
    },
    {
     "data": {
      "application/vnd.microsoft.datawrangler.viewer.v0+json": {
       "columns": [
        {
         "name": "index",
         "rawType": "int64",
         "type": "integer"
        },
        {
         "name": "x",
         "rawType": "float64",
         "type": "float"
        },
        {
         "name": "x_weight",
         "rawType": "float64",
         "type": "float"
        },
        {
         "name": "y",
         "rawType": "float64",
         "type": "float"
        },
        {
         "name": "y_pred",
         "rawType": "float64",
         "type": "float"
        },
        {
         "name": "residuals",
         "rawType": "float64",
         "type": "float"
        },
        {
         "name": "y_cov",
         "rawType": "float64",
         "type": "float"
        }
       ],
       "conversionMethod": "pd.DataFrame",
       "ref": "d11acf90-4271-4a2e-96bf-2c5d2ae54e3b",
       "rows": [
        [
         "0",
         "0.05",
         "0.07716049382716049",
         "27.0",
         "43.02544240525245",
         "16.02544240525245",
         "11.354726150276829"
        ],
        [
         "1",
         "0.1",
         "0.034293552812071325",
         "59.0",
         "73.05897268338126",
         "14.058972683381256",
         "28.006207974526"
        ],
        [
         "2",
         "0.15",
         "0.01384083044982699",
         "146.0",
         "126.26959702875232",
         "-19.730402971247685",
         "46.60206251491704"
        ],
        [
         "3",
         "0.17",
         "0.01643655489809336",
         "183.0",
         "153.6260889044826",
         "-29.3739110955174",
         "50.06706801491395"
        ],
        [
         "4",
         "0.2",
         "0.008734387282732119",
         "228.0",
         "198.20804946763639",
         "-29.791950532363614",
         "51.28398057888308"
        ],
        [
         "5",
         "0.22",
         "0.008734387282732119",
         "228.0",
         "227.88028863851866",
         "-0.1197113614813361",
         "52.084561763615156"
        ],
        [
         "6",
         "0.25",
         "0.0110803324099723",
         "268.0",
         "267.2227723517784",
         "-0.777227648221583",
         "57.08211352970185"
        ],
        [
         "7",
         "0.27",
         "0.012913223140495866",
         "268.5",
         "286.9643640949215",
         "18.464364094921507",
         "62.25634550991365"
        ],
        [
         "8",
         "0.3",
         "0.007181844297615627",
         "277.0",
         "302.59406343658054",
         "25.59406343658054",
         "67.17659602339461"
        ],
        [
         "9",
         "0.32",
         "0.007061648188687239",
         "283.5",
         "302.3037478240242",
         "18.803747824024185",
         "66.0412705240307"
        ],
        [
         "10",
         "0.34",
         "0.01384083044982699",
         "291.0",
         "293.3587474755247",
         "2.3587474755246944",
         "62.097510668684315"
        ],
        [
         "11",
         "0.35",
         "0.006609822195782933",
         "302.5",
         "285.8697849332489",
         "-16.630215066751077",
         "59.89531335741303"
        ],
        [
         "12",
         "0.37",
         "0.007431629013079667",
         "269.5",
         "265.7053930400212",
         "-3.7946069599788075",
         "56.888092292074504"
        ],
        [
         "13",
         "0.4",
         "0.0088999644001424",
         "223.0",
         "225.9742320263774",
         "2.9742320263773934",
         "58.4613333778197"
        ],
        [
         "14",
         "0.42",
         "0.008734387282732119",
         "230.0",
         "196.2183045099802",
         "-33.781695490019814",
         "62.06851881313747"
        ],
        [
         "15",
         "0.45",
         "0.013520822065981613",
         "151.0",
         "151.74195719011476",
         "0.7419571901147606",
         "64.21577265827577"
        ],
        [
         "16",
         "0.5",
         "0.0355998576005696",
         "85.0",
         "90.2658258038687",
         "5.265825803868694",
         "46.19974852235077"
        ],
        [
         "17",
         "0.55",
         "0.0355998576005696",
         "85.6",
         "83.04285736955049",
         "-2.557142630449505",
         "63.83360240582118"
        ],
        [
         "18",
         "0.58",
         "0.015625",
         "191.6",
         "197.98617818550224",
         "6.386178185502246",
         "159.48631308272456"
        ],
        [
         "19",
         "0.6",
         "0.006944444444444444",
         "289.5",
         "275.39163591567205",
         "-14.108364084327945",
         "263.17749594168583"
        ],
        [
         "20",
         "0.62",
         "0.0084167999326656",
         "239.5",
         "245.69229026272617",
         "6.192290262726175",
         "253.4631566381094"
        ],
        [
         "21",
         "0.65",
         "0.021626297577854673",
         "93.5",
         "93.30876133513755",
         "-0.19123866486245333",
         "150.65750366610524"
        ],
        [
         "22",
         "0.7",
         "0.0594883997620464",
         "33.0",
         "24.60444637921642",
         "-8.39555362078358",
         "6.227830444162471"
        ],
        [
         "23",
         "0.75",
         "0.07716049382716049",
         "26.5",
         "23.38778341690943",
         "-3.1122165830905715",
         "6.766161260163699"
        ],
        [
         "24",
         "0.8",
         "0.08163265306122448",
         "25.0",
         "23.276027110695573",
         "-1.7239728893044273",
         "6.870225715179239"
        ],
        [
         "25",
         "0.85",
         "0.08650519031141869",
         "23.5",
         "23.2576392186499",
         "-0.24236078135010075",
         "6.892411628418308"
        ],
        [
         "26",
         "0.9",
         "0.09182736455463729",
         "22.0",
         "23.25516661319425",
         "1.2551666131942483",
         "6.89607990046087"
        ],
        [
         "27",
         "0.95",
         "0.08163265306122448",
         "24.5",
         "23.254895047583698",
         "-1.2451049524163018",
         "6.896563050603298"
        ],
        [
         "28",
         "1.0",
         "0.08163265306122448",
         "25.0",
         "23.254870659299936",
         "-1.745129340700064",
         "6.896614232311211"
        ]
       ],
       "shape": {
        "columns": 6,
        "rows": 29
       }
      },
      "text/html": [
       "<div>\n",
       "<style scoped>\n",
       "    .dataframe tbody tr th:only-of-type {\n",
       "        vertical-align: middle;\n",
       "    }\n",
       "\n",
       "    .dataframe tbody tr th {\n",
       "        vertical-align: top;\n",
       "    }\n",
       "\n",
       "    .dataframe thead th {\n",
       "        text-align: right;\n",
       "    }\n",
       "</style>\n",
       "<table border=\"1\" class=\"dataframe\">\n",
       "  <thead>\n",
       "    <tr style=\"text-align: right;\">\n",
       "      <th></th>\n",
       "      <th>x</th>\n",
       "      <th>x_weight</th>\n",
       "      <th>y</th>\n",
       "      <th>y_pred</th>\n",
       "      <th>residuals</th>\n",
       "      <th>y_cov</th>\n",
       "    </tr>\n",
       "  </thead>\n",
       "  <tbody>\n",
       "    <tr>\n",
       "      <th>0</th>\n",
       "      <td>0.05</td>\n",
       "      <td>0.077160</td>\n",
       "      <td>27.0</td>\n",
       "      <td>43.025442</td>\n",
       "      <td>16.025442</td>\n",
       "      <td>11.354726</td>\n",
       "    </tr>\n",
       "    <tr>\n",
       "      <th>1</th>\n",
       "      <td>0.10</td>\n",
       "      <td>0.034294</td>\n",
       "      <td>59.0</td>\n",
       "      <td>73.058973</td>\n",
       "      <td>14.058973</td>\n",
       "      <td>28.006208</td>\n",
       "    </tr>\n",
       "    <tr>\n",
       "      <th>2</th>\n",
       "      <td>0.15</td>\n",
       "      <td>0.013841</td>\n",
       "      <td>146.0</td>\n",
       "      <td>126.269597</td>\n",
       "      <td>-19.730403</td>\n",
       "      <td>46.602063</td>\n",
       "    </tr>\n",
       "    <tr>\n",
       "      <th>3</th>\n",
       "      <td>0.17</td>\n",
       "      <td>0.016437</td>\n",
       "      <td>183.0</td>\n",
       "      <td>153.626089</td>\n",
       "      <td>-29.373911</td>\n",
       "      <td>50.067068</td>\n",
       "    </tr>\n",
       "    <tr>\n",
       "      <th>4</th>\n",
       "      <td>0.20</td>\n",
       "      <td>0.008734</td>\n",
       "      <td>228.0</td>\n",
       "      <td>198.208049</td>\n",
       "      <td>-29.791951</td>\n",
       "      <td>51.283981</td>\n",
       "    </tr>\n",
       "    <tr>\n",
       "      <th>5</th>\n",
       "      <td>0.22</td>\n",
       "      <td>0.008734</td>\n",
       "      <td>228.0</td>\n",
       "      <td>227.880289</td>\n",
       "      <td>-0.119711</td>\n",
       "      <td>52.084562</td>\n",
       "    </tr>\n",
       "    <tr>\n",
       "      <th>6</th>\n",
       "      <td>0.25</td>\n",
       "      <td>0.011080</td>\n",
       "      <td>268.0</td>\n",
       "      <td>267.222772</td>\n",
       "      <td>-0.777228</td>\n",
       "      <td>57.082114</td>\n",
       "    </tr>\n",
       "    <tr>\n",
       "      <th>7</th>\n",
       "      <td>0.27</td>\n",
       "      <td>0.012913</td>\n",
       "      <td>268.5</td>\n",
       "      <td>286.964364</td>\n",
       "      <td>18.464364</td>\n",
       "      <td>62.256346</td>\n",
       "    </tr>\n",
       "    <tr>\n",
       "      <th>8</th>\n",
       "      <td>0.30</td>\n",
       "      <td>0.007182</td>\n",
       "      <td>277.0</td>\n",
       "      <td>302.594063</td>\n",
       "      <td>25.594063</td>\n",
       "      <td>67.176596</td>\n",
       "    </tr>\n",
       "    <tr>\n",
       "      <th>9</th>\n",
       "      <td>0.32</td>\n",
       "      <td>0.007062</td>\n",
       "      <td>283.5</td>\n",
       "      <td>302.303748</td>\n",
       "      <td>18.803748</td>\n",
       "      <td>66.041271</td>\n",
       "    </tr>\n",
       "    <tr>\n",
       "      <th>10</th>\n",
       "      <td>0.34</td>\n",
       "      <td>0.013841</td>\n",
       "      <td>291.0</td>\n",
       "      <td>293.358747</td>\n",
       "      <td>2.358747</td>\n",
       "      <td>62.097511</td>\n",
       "    </tr>\n",
       "    <tr>\n",
       "      <th>11</th>\n",
       "      <td>0.35</td>\n",
       "      <td>0.006610</td>\n",
       "      <td>302.5</td>\n",
       "      <td>285.869785</td>\n",
       "      <td>-16.630215</td>\n",
       "      <td>59.895313</td>\n",
       "    </tr>\n",
       "    <tr>\n",
       "      <th>12</th>\n",
       "      <td>0.37</td>\n",
       "      <td>0.007432</td>\n",
       "      <td>269.5</td>\n",
       "      <td>265.705393</td>\n",
       "      <td>-3.794607</td>\n",
       "      <td>56.888092</td>\n",
       "    </tr>\n",
       "    <tr>\n",
       "      <th>13</th>\n",
       "      <td>0.40</td>\n",
       "      <td>0.008900</td>\n",
       "      <td>223.0</td>\n",
       "      <td>225.974232</td>\n",
       "      <td>2.974232</td>\n",
       "      <td>58.461333</td>\n",
       "    </tr>\n",
       "    <tr>\n",
       "      <th>14</th>\n",
       "      <td>0.42</td>\n",
       "      <td>0.008734</td>\n",
       "      <td>230.0</td>\n",
       "      <td>196.218305</td>\n",
       "      <td>-33.781695</td>\n",
       "      <td>62.068519</td>\n",
       "    </tr>\n",
       "    <tr>\n",
       "      <th>15</th>\n",
       "      <td>0.45</td>\n",
       "      <td>0.013521</td>\n",
       "      <td>151.0</td>\n",
       "      <td>151.741957</td>\n",
       "      <td>0.741957</td>\n",
       "      <td>64.215773</td>\n",
       "    </tr>\n",
       "    <tr>\n",
       "      <th>16</th>\n",
       "      <td>0.50</td>\n",
       "      <td>0.035600</td>\n",
       "      <td>85.0</td>\n",
       "      <td>90.265826</td>\n",
       "      <td>5.265826</td>\n",
       "      <td>46.199749</td>\n",
       "    </tr>\n",
       "    <tr>\n",
       "      <th>17</th>\n",
       "      <td>0.55</td>\n",
       "      <td>0.035600</td>\n",
       "      <td>85.6</td>\n",
       "      <td>83.042857</td>\n",
       "      <td>-2.557143</td>\n",
       "      <td>63.833602</td>\n",
       "    </tr>\n",
       "    <tr>\n",
       "      <th>18</th>\n",
       "      <td>0.58</td>\n",
       "      <td>0.015625</td>\n",
       "      <td>191.6</td>\n",
       "      <td>197.986178</td>\n",
       "      <td>6.386178</td>\n",
       "      <td>159.486313</td>\n",
       "    </tr>\n",
       "    <tr>\n",
       "      <th>19</th>\n",
       "      <td>0.60</td>\n",
       "      <td>0.006944</td>\n",
       "      <td>289.5</td>\n",
       "      <td>275.391636</td>\n",
       "      <td>-14.108364</td>\n",
       "      <td>263.177496</td>\n",
       "    </tr>\n",
       "    <tr>\n",
       "      <th>20</th>\n",
       "      <td>0.62</td>\n",
       "      <td>0.008417</td>\n",
       "      <td>239.5</td>\n",
       "      <td>245.692290</td>\n",
       "      <td>6.192290</td>\n",
       "      <td>253.463157</td>\n",
       "    </tr>\n",
       "    <tr>\n",
       "      <th>21</th>\n",
       "      <td>0.65</td>\n",
       "      <td>0.021626</td>\n",
       "      <td>93.5</td>\n",
       "      <td>93.308761</td>\n",
       "      <td>-0.191239</td>\n",
       "      <td>150.657504</td>\n",
       "    </tr>\n",
       "    <tr>\n",
       "      <th>22</th>\n",
       "      <td>0.70</td>\n",
       "      <td>0.059488</td>\n",
       "      <td>33.0</td>\n",
       "      <td>24.604446</td>\n",
       "      <td>-8.395554</td>\n",
       "      <td>6.227830</td>\n",
       "    </tr>\n",
       "    <tr>\n",
       "      <th>23</th>\n",
       "      <td>0.75</td>\n",
       "      <td>0.077160</td>\n",
       "      <td>26.5</td>\n",
       "      <td>23.387783</td>\n",
       "      <td>-3.112217</td>\n",
       "      <td>6.766161</td>\n",
       "    </tr>\n",
       "    <tr>\n",
       "      <th>24</th>\n",
       "      <td>0.80</td>\n",
       "      <td>0.081633</td>\n",
       "      <td>25.0</td>\n",
       "      <td>23.276027</td>\n",
       "      <td>-1.723973</td>\n",
       "      <td>6.870226</td>\n",
       "    </tr>\n",
       "    <tr>\n",
       "      <th>25</th>\n",
       "      <td>0.85</td>\n",
       "      <td>0.086505</td>\n",
       "      <td>23.5</td>\n",
       "      <td>23.257639</td>\n",
       "      <td>-0.242361</td>\n",
       "      <td>6.892412</td>\n",
       "    </tr>\n",
       "    <tr>\n",
       "      <th>26</th>\n",
       "      <td>0.90</td>\n",
       "      <td>0.091827</td>\n",
       "      <td>22.0</td>\n",
       "      <td>23.255167</td>\n",
       "      <td>1.255167</td>\n",
       "      <td>6.896080</td>\n",
       "    </tr>\n",
       "    <tr>\n",
       "      <th>27</th>\n",
       "      <td>0.95</td>\n",
       "      <td>0.081633</td>\n",
       "      <td>24.5</td>\n",
       "      <td>23.254895</td>\n",
       "      <td>-1.245105</td>\n",
       "      <td>6.896563</td>\n",
       "    </tr>\n",
       "    <tr>\n",
       "      <th>28</th>\n",
       "      <td>1.00</td>\n",
       "      <td>0.081633</td>\n",
       "      <td>25.0</td>\n",
       "      <td>23.254871</td>\n",
       "      <td>-1.745129</td>\n",
       "      <td>6.896614</td>\n",
       "    </tr>\n",
       "  </tbody>\n",
       "</table>\n",
       "</div>"
      ],
      "text/plain": [
       "       x  x_weight      y      y_pred  residuals       y_cov\n",
       "0   0.05  0.077160   27.0   43.025442  16.025442   11.354726\n",
       "1   0.10  0.034294   59.0   73.058973  14.058973   28.006208\n",
       "2   0.15  0.013841  146.0  126.269597 -19.730403   46.602063\n",
       "3   0.17  0.016437  183.0  153.626089 -29.373911   50.067068\n",
       "4   0.20  0.008734  228.0  198.208049 -29.791951   51.283981\n",
       "5   0.22  0.008734  228.0  227.880289  -0.119711   52.084562\n",
       "6   0.25  0.011080  268.0  267.222772  -0.777228   57.082114\n",
       "7   0.27  0.012913  268.5  286.964364  18.464364   62.256346\n",
       "8   0.30  0.007182  277.0  302.594063  25.594063   67.176596\n",
       "9   0.32  0.007062  283.5  302.303748  18.803748   66.041271\n",
       "10  0.34  0.013841  291.0  293.358747   2.358747   62.097511\n",
       "11  0.35  0.006610  302.5  285.869785 -16.630215   59.895313\n",
       "12  0.37  0.007432  269.5  265.705393  -3.794607   56.888092\n",
       "13  0.40  0.008900  223.0  225.974232   2.974232   58.461333\n",
       "14  0.42  0.008734  230.0  196.218305 -33.781695   62.068519\n",
       "15  0.45  0.013521  151.0  151.741957   0.741957   64.215773\n",
       "16  0.50  0.035600   85.0   90.265826   5.265826   46.199749\n",
       "17  0.55  0.035600   85.6   83.042857  -2.557143   63.833602\n",
       "18  0.58  0.015625  191.6  197.986178   6.386178  159.486313\n",
       "19  0.60  0.006944  289.5  275.391636 -14.108364  263.177496\n",
       "20  0.62  0.008417  239.5  245.692290   6.192290  253.463157\n",
       "21  0.65  0.021626   93.5   93.308761  -0.191239  150.657504\n",
       "22  0.70  0.059488   33.0   24.604446  -8.395554    6.227830\n",
       "23  0.75  0.077160   26.5   23.387783  -3.112217    6.766161\n",
       "24  0.80  0.081633   25.0   23.276027  -1.723973    6.870226\n",
       "25  0.85  0.086505   23.5   23.257639  -0.242361    6.892412\n",
       "26  0.90  0.091827   22.0   23.255167   1.255167    6.896080\n",
       "27  0.95  0.081633   24.5   23.254895  -1.245105    6.896563\n",
       "28  1.00  0.081633   25.0   23.254871  -1.745129    6.896614"
      ]
     },
     "metadata": {},
     "output_type": "display_data"
    },
    {
     "data": {
      "text/plain": [
       "np.float64(1.9870501831782674)"
      ]
     },
     "metadata": {},
     "output_type": "display_data"
    },
    {
     "data": {
      "image/png": "[encoded data removed]",
      "text/plain": [
       "<Figure size 640x480 with 1 Axes>"
      ]
     },
     "metadata": {},
     "output_type": "display_data"
    },
    {
     "data": {
      "image/png": "[encoded data removed]",
      "text/plain": [
       "<Figure size 640x480 with 2 Axes>"
      ]
     },
     "metadata": {},
     "output_type": "display_data"
    },
    {
     "name": "stdout",
     "output_type": "stream",
     "text": [
      "chi2 statistic : 86.86\n",
      "critical values for 22 degrees of freedom\n",
      "x(alpha = 0.10) = 30.81\n",
      "x(alpha = 0.05) = 33.92\n",
      "x(alpha = 0.01) = 40.29\n"
     ]
    }
   ],
   "source": [
    "weight_matrix = sparse.diags(1/data['s_z'].to_numpy()**2)\n",
    "\n",
    "functional_model = nmp_util.SympyFunctionalModel(functional_model_expr, [a_0, a_1, a_2, sigma_1, sigma_2, mu_1, mu_2], I)\n",
    "\n",
    "# the default values are given in the exercise, except for a_0, simply chose far a_0 too, and see if this converges\n",
    "functional_model.set_parameters(np.array([50, 50, 50, 0.05, 0.05, 0.3, 0.6]))\n",
    "\n",
    "functional_model.logger = lambda m : print(f'Itaration:{m.iterations:2d}, m_0: {m.m_0:.2f}')\n",
    "functional_model.fit(data['I'], data['z'], weight_matrix)\n",
    "\n",
    "functional_model.display_summary()"
   ]
  }
 ],
 "metadata": {
  "kernelspec": {
   "display_name": ".venv (3.13.2)",
   "language": "python",
   "name": "python3"
  },
  "language_info": {
   "codemirror_mode": {
    "name": "ipython",
    "version": 3
   },
   "file_extension": ".py",
   "mimetype": "text/x-python",
   "name": "python",
   "nbconvert_exporter": "python",
   "pygments_lexer": "ipython3",
   "version": "3.13.2"
  }
 },
 "nbformat": 4,
 "nbformat_minor": 5
}
