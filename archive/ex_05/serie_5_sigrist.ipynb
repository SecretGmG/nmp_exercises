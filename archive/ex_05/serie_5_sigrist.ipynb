{
 "cells": [
  {
   "cell_type": "code",
   "execution_count": null,
   "id": "2e396e20",
   "metadata": {},
   "outputs": [],
   "source": [
    "import numpy as np\n",
    "import pandas as pd\n",
    "import nmp_util\n",
    "import matplotlib.pyplot as plt\n",
    "import seaborn as sns\n",
    "sns.set_theme()"
   ]
  },
  {
   "cell_type": "code",
   "execution_count": null,
   "id": "ea96e104",
   "metadata": {},
   "outputs": [],
   "source": [
    "mjd = pd.read_csv('GRCAT07001ACC.sec', delimiter = r'\\s+', names = ['mjd'], skiprows = 8, nrows=1)\n",
    "data_cols = ['R_lin','S_lin','W_lin','R_ang','S_ang','W_ang']\n",
    "data = pd.read_csv('GRCAT07001ACC.sec', delimiter = r'\\s+', names = ['dmjd'] + data_cols, skiprows = 9)\n",
    "date = nmp_util.mjd_to_datetime(data['dmjd'] + mjd['mjd'][0])\n",
    "data['date'] = date"
   ]
  },
  {
   "cell_type": "code",
   "execution_count": null,
   "id": "1cf7b3be",
   "metadata": {},
   "outputs": [],
   "source": [
    "display(data)"
   ]
  },
  {
   "cell_type": "code",
   "execution_count": null,
   "id": "7b7b0a61",
   "metadata": {},
   "outputs": [],
   "source": [
    "# sample every 10th entry\n",
    "data_sample = data.loc[::10]\n",
    "display(data_sample)"
   ]
  },
  {
   "cell_type": "code",
   "execution_count": null,
   "id": "c2db6acb",
   "metadata": {},
   "outputs": [],
   "source": [
    "def analize_data(date : np.ndarray, original : np.ndarray, window : int, edge):\n",
    "    # Ctop the date and data depending on how the edge is handled\n",
    "    cropped = original[window// 2:-window // 2+1] if edge == 'none' else original\n",
    "    cropped_date = date[window // 2:-window // 2+1] if edge == 'none' else date\n",
    "\n",
    "    def plot_amplitude_spectrum(data,label, d = 10, max_period = 30, exponent = 1):\n",
    "        freq, amplitude = nmp_util.amplitude_spectrum_via_numpy(data, d = d)\n",
    "        # only use positive frequencies with a period smaller than max_period\n",
    "        mask = (freq < 1/max_period) & (freq > 0)\n",
    "        # convert to units of minutes\n",
    "        plt.plot(1/(60*freq[mask]), amplitude[mask]**exponent, label=label)\n",
    "\n",
    "    for i in range(3):\n",
    "        # Low-pass filter\n",
    "\n",
    "        l = nmp_util.savitzki_golay_filter(original, deg = i, window = window, edge=edge)\n",
    "        h = cropped - l\n",
    "\n",
    "        # plot the entire data (filtered and original)\n",
    "        plt.figure(figsize=(10, 5))\n",
    "        plt.scatter(date, original, label=f'Original', s=1)\n",
    "        plt.scatter(cropped_date, h, label=f'High-pass q={i}', s=1)\n",
    "        plt.scatter(cropped_date, l, label=f'Low-pass q={i}', s=1)\n",
    "        plt.xlabel('Date')\n",
    "        plt.ylabel('Acceleration [mm/s$^2$]')\n",
    "        plt.legend()\n",
    "        plt.show()\n",
    "        \n",
    "        # create zoom for one hour (360 entries)\n",
    "        s, e = 0, 360\n",
    "        plt.figure(figsize=(10, 5))\n",
    "        plt.scatter(date[s:e], original[s:e], label=f'Original', s=1)\n",
    "        plt.scatter(cropped_date[s:e], h[s:e], label=f'High-pass q={i}', s=1)\n",
    "        plt.scatter(cropped_date[s:e], l[s:e], label=f'Low-pass q={i}', s=1)\n",
    "        plt.xlabel('Date')\n",
    "        plt.ylabel('Acceleration [mm/s$^2$]')\n",
    "        plt.legend()\n",
    "        plt.show()\n",
    "        \n",
    "        # plot the amplitude spectrum\n",
    "        \n",
    "        plt.figure(figsize=(10, 5))\n",
    "        plot_amplitude_spectrum(original, 'Original')\n",
    "        plot_amplitude_spectrum(l, f'Low-pass q={i}')\n",
    "        plot_amplitude_spectrum(h, f'High-pass q={i}')\n",
    "        plt.xlabel('Period [min]')\n",
    "        plt.ylabel('Amplitude [mm/s$^2$]')\n",
    "        plt.xscale('log') \n",
    "        plt.legend()\n",
    "        plt.show()\n",
    "\n",
    "        plt.figure(figsize=(10, 5))\n",
    "        plot_amplitude_spectrum(original, 'Original',  exponent = 2)\n",
    "        plot_amplitude_spectrum(l, f'Low-pass q={i}',  exponent = 2)\n",
    "        plot_amplitude_spectrum(h, f'High-pass q={i}', exponent = 2)\n",
    "        plt.xlabel('Period [min]')\n",
    "        plt.ylabel('Power [mm^2/s$^4$]')\n",
    "        plt.xscale('log') \n",
    "        plt.legend()\n",
    "        plt.show()"
   ]
  },
  {
   "cell_type": "markdown",
   "id": "b23b07be",
   "metadata": {},
   "source": [
    "# Note:\n",
    "the filters for q=0 and q=1 are equivalent, but only because i evaluate at x=0, and the data points are equidistant!"
   ]
  },
  {
   "cell_type": "code",
   "execution_count": null,
   "id": "aacddbc0",
   "metadata": {},
   "outputs": [],
   "source": [
    "#analize_data(data_sample['date'], data_sample['S_lin'], window = 61, edge = 'none')"
   ]
  },
  {
   "cell_type": "code",
   "execution_count": null,
   "id": "4ed6893a",
   "metadata": {},
   "outputs": [],
   "source": [
    "analize_data(data_sample['date'], data_sample['S_lin'], window = 61, edge = 'polynomial')"
   ]
  },
  {
   "cell_type": "code",
   "execution_count": null,
   "id": "1f6f1a8e",
   "metadata": {},
   "outputs": [],
   "source": [
    "def fourier_analize(data, m, dt, use_functional_model = False):\n",
    "    # get amplitudes via my own DFT implementation\n",
    "    if use_functional_model:\n",
    "        f = nmp_util.DFT_FunctionalModel(m)\n",
    "        f.fit(np.arange(len(data)), data)\n",
    "        coeffs = f.parameters\n",
    "        amplitudes = f.amplitudes()\n",
    "    else:\n",
    "        coeffs = nmp_util.discrete_fourier_transform(data, m)\n",
    "        amplitudes = nmp_util.coeffs_to_amplitude(coeffs)\n",
    "\n",
    "    # and via numpy\n",
    "    freqs, amplitudes_np = nmp_util.amplitude_spectrum_via_numpy(data, m, d=dt/60)\n",
    "    \n",
    "    m_max = np.argmax(amplitudes)\n",
    "    print(f'n_max = {m_max}')\n",
    "    print(f'perid = {1/freqs[m_max]} [min]')\n",
    "    print(f'amplitude = {amplitudes[m_max]} [mm$^2$/s]')\n",
    "    print(f'coefficients a = {coeffs[m_max]} [mm/s$^2$]')\n",
    "    print(f'coefficients b = {coeffs[m_max + m]} [mm/s$^2$]') \n",
    "    plt.figure(figsize=(10, 5))\n",
    "    plt.title(f'Fourier Analysis m = {m}')\n",
    "    plt.scatter(freqs, amplitudes, label='Amplitudes',s=10, marker='x')\n",
    "    plt.scatter(freqs, amplitudes_np, label='Amplitudes numpy',s=5)\n",
    "    plt.xlabel('frequency [1/min]')\n",
    "    plt.ylabel('amplitude [mm$^2$/s]')\n",
    "    plt.legend()\n",
    "    plt.show()"
   ]
  },
  {
   "cell_type": "code",
   "execution_count": null,
   "id": "95816f02",
   "metadata": {},
   "outputs": [],
   "source": [
    "# analize the data with different m values\n",
    "fourier_analize(data_sample['S_lin'], 30, dt = 10)\n",
    "fourier_analize(data_sample['S_lin'], 120, dt = 10)\n",
    "fourier_analize(data_sample['S_lin'], 720, dt = 10)\n",
    "fourier_analize(data_sample['S_lin'], 1440, dt = 10)"
   ]
  },
  {
   "cell_type": "markdown",
   "id": "5ea55b85",
   "metadata": {},
   "source": [
    "# performance test\n",
    "\n",
    "Unsurprisingly numpy is way faster. The funcitonal model and direct approach do show a difference, but it's not drastic."
   ]
  },
  {
   "cell_type": "code",
   "execution_count": null,
   "id": "d2ac7807",
   "metadata": {},
   "outputs": [],
   "source": [
    "def time_functional():\n",
    "    f = nmp_util.DFT_FunctionalModel(720)\n",
    "    f.fit(np.arange(len(data_sample['S_lin'])), data_sample['S_lin'])\n",
    "def time_numpy():\n",
    "    nmp_util.amplitude_spectrum_via_numpy(data_sample['S_lin'], 720, d=10/60)\n",
    "def time_dft():\n",
    "    nmp_util.discrete_fourier_transform(data_sample['S_lin'], 720)\n",
    "%timeit time_functional()\n",
    "%timeit time_dft()\n",
    "%timeit time_numpy()"
   ]
  }
 ],
 "metadata": {
  "kernelspec": {
   "display_name": ".venv (3.12.3)",
   "language": "python",
   "name": "python3"
  },
  "language_info": {
   "codemirror_mode": {
    "name": "ipython",
    "version": 3
   },
   "file_extension": ".py",
   "mimetype": "text/x-python",
   "name": "python",
   "nbconvert_exporter": "python",
   "pygments_lexer": "ipython3",
   "version": "3.12.3"
  }
 },
 "nbformat": 4,
 "nbformat_minor": 5
}
