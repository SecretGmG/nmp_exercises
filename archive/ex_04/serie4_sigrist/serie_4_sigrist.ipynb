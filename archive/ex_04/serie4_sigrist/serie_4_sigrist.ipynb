{
 "cells": [
  {
   "cell_type": "code",
   "execution_count": 3,
   "id": "b73d93cb",
   "metadata": {},
   "outputs": [],
   "source": [
    "import numpy as np\n",
    "import nmp_util\n",
    "import sympy\n",
    "import seaborn as sns\n",
    "import matplotlib.pyplot as plt\n",
    "import pandas as pd\n",
    "from scipy import sparse"
   ]
  },
  {
   "cell_type": "code",
   "execution_count": 4,
   "id": "48449300",
   "metadata": {},
   "outputs": [
    {
     "data": {
      "application/vnd.microsoft.datawrangler.viewer.v0+json": {
       "columns": [
        {
         "name": "index",
         "rawType": "int64",
         "type": "integer"
        },
        {
         "name": "I",
         "rawType": "float64",
         "type": "float"
        },
        {
         "name": "z",
         "rawType": "float64",
         "type": "float"
        },
        {
         "name": "s_z",
         "rawType": "float64",
         "type": "float"
        }
       ],
       "conversionMethod": "pd.DataFrame",
       "ref": "f7dafcee-0840-4117-8dcd-1ec6d4e55fef",
       "rows": [
        [
         "1",
         "0.05",
         "27.0",
         "3.6"
        ],
        [
         "2",
         "0.1",
         "59.0",
         "5.4"
        ],
        [
         "3",
         "0.15",
         "146.0",
         "8.5"
        ],
        [
         "4",
         "0.17",
         "183.0",
         "7.8"
        ],
        [
         "5",
         "0.2",
         "228.0",
         "10.7"
        ],
        [
         "6",
         "0.22",
         "228.0",
         "10.7"
        ],
        [
         "7",
         "0.25",
         "268.0",
         "9.5"
        ],
        [
         "8",
         "0.27",
         "268.5",
         "8.8"
        ],
        [
         "9",
         "0.3",
         "277.0",
         "11.8"
        ],
        [
         "10",
         "0.32",
         "283.5",
         "11.9"
        ],
        [
         "11",
         "0.34",
         "291.0",
         "8.5"
        ],
        [
         "12",
         "0.35",
         "302.5",
         "12.3"
        ],
        [
         "13",
         "0.37",
         "269.5",
         "11.6"
        ],
        [
         "14",
         "0.4",
         "223.0",
         "10.6"
        ],
        [
         "15",
         "0.42",
         "230.0",
         "10.7"
        ],
        [
         "16",
         "0.45",
         "151.0",
         "8.6"
        ],
        [
         "17",
         "0.5",
         "85.0",
         "5.3"
        ],
        [
         "18",
         "0.55",
         "85.6",
         "5.3"
        ],
        [
         "19",
         "0.58",
         "191.6",
         "8.0"
        ],
        [
         "20",
         "0.6",
         "289.5",
         "12.0"
        ],
        [
         "21",
         "0.62",
         "239.5",
         "10.9"
        ],
        [
         "22",
         "0.65",
         "93.5",
         "6.8"
        ],
        [
         "23",
         "0.7",
         "33.0",
         "4.1"
        ],
        [
         "24",
         "0.75",
         "26.5",
         "3.6"
        ],
        [
         "25",
         "0.8",
         "25.0",
         "3.5"
        ],
        [
         "26",
         "0.85",
         "23.5",
         "3.4"
        ],
        [
         "27",
         "0.9",
         "22.0",
         "3.3"
        ],
        [
         "28",
         "0.95",
         "24.5",
         "3.5"
        ],
        [
         "29",
         "1.0",
         "25.0",
         "3.5"
        ]
       ],
       "shape": {
        "columns": 3,
        "rows": 29
       }
      },
      "text/html": [
       "<div>\n",
       "<style scoped>\n",
       "    .dataframe tbody tr th:only-of-type {\n",
       "        vertical-align: middle;\n",
       "    }\n",
       "\n",
       "    .dataframe tbody tr th {\n",
       "        vertical-align: top;\n",
       "    }\n",
       "\n",
       "    .dataframe thead th {\n",
       "        text-align: right;\n",
       "    }\n",
       "</style>\n",
       "<table border=\"1\" class=\"dataframe\">\n",
       "  <thead>\n",
       "    <tr style=\"text-align: right;\">\n",
       "      <th></th>\n",
       "      <th>I</th>\n",
       "      <th>z</th>\n",
       "      <th>s_z</th>\n",
       "    </tr>\n",
       "  </thead>\n",
       "  <tbody>\n",
       "    <tr>\n",
       "      <th>1</th>\n",
       "      <td>0.05</td>\n",
       "      <td>27.0</td>\n",
       "      <td>3.6</td>\n",
       "    </tr>\n",
       "    <tr>\n",
       "      <th>2</th>\n",
       "      <td>0.10</td>\n",
       "      <td>59.0</td>\n",
       "      <td>5.4</td>\n",
       "    </tr>\n",
       "    <tr>\n",
       "      <th>3</th>\n",
       "      <td>0.15</td>\n",
       "      <td>146.0</td>\n",
       "      <td>8.5</td>\n",
       "    </tr>\n",
       "    <tr>\n",
       "      <th>4</th>\n",
       "      <td>0.17</td>\n",
       "      <td>183.0</td>\n",
       "      <td>7.8</td>\n",
       "    </tr>\n",
       "    <tr>\n",
       "      <th>5</th>\n",
       "      <td>0.20</td>\n",
       "      <td>228.0</td>\n",
       "      <td>10.7</td>\n",
       "    </tr>\n",
       "    <tr>\n",
       "      <th>6</th>\n",
       "      <td>0.22</td>\n",
       "      <td>228.0</td>\n",
       "      <td>10.7</td>\n",
       "    </tr>\n",
       "    <tr>\n",
       "      <th>7</th>\n",
       "      <td>0.25</td>\n",
       "      <td>268.0</td>\n",
       "      <td>9.5</td>\n",
       "    </tr>\n",
       "    <tr>\n",
       "      <th>8</th>\n",
       "      <td>0.27</td>\n",
       "      <td>268.5</td>\n",
       "      <td>8.8</td>\n",
       "    </tr>\n",
       "    <tr>\n",
       "      <th>9</th>\n",
       "      <td>0.30</td>\n",
       "      <td>277.0</td>\n",
       "      <td>11.8</td>\n",
       "    </tr>\n",
       "    <tr>\n",
       "      <th>10</th>\n",
       "      <td>0.32</td>\n",
       "      <td>283.5</td>\n",
       "      <td>11.9</td>\n",
       "    </tr>\n",
       "    <tr>\n",
       "      <th>11</th>\n",
       "      <td>0.34</td>\n",
       "      <td>291.0</td>\n",
       "      <td>8.5</td>\n",
       "    </tr>\n",
       "    <tr>\n",
       "      <th>12</th>\n",
       "      <td>0.35</td>\n",
       "      <td>302.5</td>\n",
       "      <td>12.3</td>\n",
       "    </tr>\n",
       "    <tr>\n",
       "      <th>13</th>\n",
       "      <td>0.37</td>\n",
       "      <td>269.5</td>\n",
       "      <td>11.6</td>\n",
       "    </tr>\n",
       "    <tr>\n",
       "      <th>14</th>\n",
       "      <td>0.40</td>\n",
       "      <td>223.0</td>\n",
       "      <td>10.6</td>\n",
       "    </tr>\n",
       "    <tr>\n",
       "      <th>15</th>\n",
       "      <td>0.42</td>\n",
       "      <td>230.0</td>\n",
       "      <td>10.7</td>\n",
       "    </tr>\n",
       "    <tr>\n",
       "      <th>16</th>\n",
       "      <td>0.45</td>\n",
       "      <td>151.0</td>\n",
       "      <td>8.6</td>\n",
       "    </tr>\n",
       "    <tr>\n",
       "      <th>17</th>\n",
       "      <td>0.50</td>\n",
       "      <td>85.0</td>\n",
       "      <td>5.3</td>\n",
       "    </tr>\n",
       "    <tr>\n",
       "      <th>18</th>\n",
       "      <td>0.55</td>\n",
       "      <td>85.6</td>\n",
       "      <td>5.3</td>\n",
       "    </tr>\n",
       "    <tr>\n",
       "      <th>19</th>\n",
       "      <td>0.58</td>\n",
       "      <td>191.6</td>\n",
       "      <td>8.0</td>\n",
       "    </tr>\n",
       "    <tr>\n",
       "      <th>20</th>\n",
       "      <td>0.60</td>\n",
       "      <td>289.5</td>\n",
       "      <td>12.0</td>\n",
       "    </tr>\n",
       "    <tr>\n",
       "      <th>21</th>\n",
       "      <td>0.62</td>\n",
       "      <td>239.5</td>\n",
       "      <td>10.9</td>\n",
       "    </tr>\n",
       "    <tr>\n",
       "      <th>22</th>\n",
       "      <td>0.65</td>\n",
       "      <td>93.5</td>\n",
       "      <td>6.8</td>\n",
       "    </tr>\n",
       "    <tr>\n",
       "      <th>23</th>\n",
       "      <td>0.70</td>\n",
       "      <td>33.0</td>\n",
       "      <td>4.1</td>\n",
       "    </tr>\n",
       "    <tr>\n",
       "      <th>24</th>\n",
       "      <td>0.75</td>\n",
       "      <td>26.5</td>\n",
       "      <td>3.6</td>\n",
       "    </tr>\n",
       "    <tr>\n",
       "      <th>25</th>\n",
       "      <td>0.80</td>\n",
       "      <td>25.0</td>\n",
       "      <td>3.5</td>\n",
       "    </tr>\n",
       "    <tr>\n",
       "      <th>26</th>\n",
       "      <td>0.85</td>\n",
       "      <td>23.5</td>\n",
       "      <td>3.4</td>\n",
       "    </tr>\n",
       "    <tr>\n",
       "      <th>27</th>\n",
       "      <td>0.90</td>\n",
       "      <td>22.0</td>\n",
       "      <td>3.3</td>\n",
       "    </tr>\n",
       "    <tr>\n",
       "      <th>28</th>\n",
       "      <td>0.95</td>\n",
       "      <td>24.5</td>\n",
       "      <td>3.5</td>\n",
       "    </tr>\n",
       "    <tr>\n",
       "      <th>29</th>\n",
       "      <td>1.00</td>\n",
       "      <td>25.0</td>\n",
       "      <td>3.5</td>\n",
       "    </tr>\n",
       "  </tbody>\n",
       "</table>\n",
       "</div>"
      ],
      "text/plain": [
       "       I      z   s_z\n",
       "1   0.05   27.0   3.6\n",
       "2   0.10   59.0   5.4\n",
       "3   0.15  146.0   8.5\n",
       "4   0.17  183.0   7.8\n",
       "5   0.20  228.0  10.7\n",
       "6   0.22  228.0  10.7\n",
       "7   0.25  268.0   9.5\n",
       "8   0.27  268.5   8.8\n",
       "9   0.30  277.0  11.8\n",
       "10  0.32  283.5  11.9\n",
       "11  0.34  291.0   8.5\n",
       "12  0.35  302.5  12.3\n",
       "13  0.37  269.5  11.6\n",
       "14  0.40  223.0  10.6\n",
       "15  0.42  230.0  10.7\n",
       "16  0.45  151.0   8.6\n",
       "17  0.50   85.0   5.3\n",
       "18  0.55   85.6   5.3\n",
       "19  0.58  191.6   8.0\n",
       "20  0.60  289.5  12.0\n",
       "21  0.62  239.5  10.9\n",
       "22  0.65   93.5   6.8\n",
       "23  0.70   33.0   4.1\n",
       "24  0.75   26.5   3.6\n",
       "25  0.80   25.0   3.5\n",
       "26  0.85   23.5   3.4\n",
       "27  0.90   22.0   3.3\n",
       "28  0.95   24.5   3.5\n",
       "29  1.00   25.0   3.5"
      ]
     },
     "metadata": {},
     "output_type": "display_data"
    }
   ],
   "source": [
    "data = pd.read_csv('serie4-observationsobs.sec', delimiter = r'\\s+', names = ['I', 'z' , 's_z'], skiprows = [0])\n",
    "display(data)"
   ]
  },
  {
   "cell_type": "code",
   "execution_count": 5,
   "id": "5c06236d",
   "metadata": {},
   "outputs": [
    {
     "data": {
      "image/png": "[encoded data removed]",
      "text/plain": [
       "<Figure size 640x480 with 1 Axes>"
      ]
     },
     "metadata": {},
     "output_type": "display_data"
    }
   ],
   "source": [
    "sns.set_theme()\n",
    "plt.xlabel('I [A]')\n",
    "plt.ylabel('z [1/min]')\n",
    "plt.errorbar(data['I'], data['z'], data['s_z'], fmt='.', label = 'Data')\n",
    "plt.legend()\n",
    "plt.show()"
   ]
  },
  {
   "cell_type": "markdown",
   "id": "830d438b",
   "metadata": {},
   "source": [
    "# Define the functional model with sympy"
   ]
  },
  {
   "cell_type": "code",
   "execution_count": 6,
   "id": "b19d2d8b",
   "metadata": {},
   "outputs": [
    {
     "data": {
      "text/latex": [
       "$\\displaystyle a_{0} + \\left(\\frac{a_{1}}{\\sigma_{1} \\sqrt{2 \\pi}} e^{\\frac{\\left(-1\\right) \\left(I - \\mu_{1}\\right)^{2}}{2 \\sigma_{1}^{2}}} + \\frac{a_{2}}{\\sigma_{2} \\sqrt{2 \\pi}} e^{\\frac{\\left(-1\\right) \\left(I - \\mu_{2}\\right)^{2}}{2 \\sigma_{2}^{2}}}\\right)$"
      ],
      "text/plain": [
       "a_0 + ((a_1/((sigma_1*sqrt(2*pi))))*exp((-(I - mu_1)**2)/((2*sigma_1**2))) + (a_2/((sigma_2*sqrt(2*pi))))*exp((-(I - mu_2)**2)/((2*sigma_2**2))))"
      ]
     },
     "metadata": {},
     "output_type": "display_data"
    },
    {
     "name": "stdout",
     "output_type": "stream",
     "text": [
      "a_{0} + \\left(\\frac{a_{1}}{\\sigma_{1} \\sqrt{2 \\pi}} e^{\\frac{\\left(-1\\right) \\left(I - \\mu_{1}\\right)^{2}}{2 \\sigma_{1}^{2}}} + \\frac{a_{2}}{\\sigma_{2} \\sqrt{2 \\pi}} e^{\\frac{\\left(-1\\right) \\left(I - \\mu_{2}\\right)^{2}}{2 \\sigma_{2}^{2}}}\\right)\n"
     ]
    }
   ],
   "source": [
    "a_0, a_1, a_2, sigma_1, sigma_2, mu_1, mu_2, I = sympy.symbols('a_0, a_1, a_2, sigma_1, sigma_2, mu_1, mu_2, I')\n",
    "\n",
    "with sympy.evaluate(False):\n",
    "    sqrt2pi = sympy.sqrt(2*sympy.pi)\n",
    "    f_expr = \\\n",
    "        a_1 / (sqrt2pi * sigma_1) * sympy.exp(-(I-mu_1)**2 / (2 * sigma_1**2)) +\\\n",
    "        a_2 / (sqrt2pi * sigma_2) * sympy.exp(-(I-mu_2)**2 / (2 * sigma_2**2)) + a_0\n",
    "\n",
    "parameter_symbols = [a_0, a_1, a_2, sigma_1, sigma_2, mu_1, mu_2]\n",
    "\n",
    "display(f_expr)\n",
    "print(sympy.latex(f_expr))"
   ]
  },
  {
   "cell_type": "code",
   "execution_count": 7,
   "id": "8d44ba47",
   "metadata": {},
   "outputs": [
    {
     "data": {
      "text/latex": [
       "$\\displaystyle 1$"
      ],
      "text/plain": [
       "1"
      ]
     },
     "metadata": {},
     "output_type": "display_data"
    },
    {
     "name": "stdout",
     "output_type": "stream",
     "text": [
      "1\n"
     ]
    },
    {
     "data": {
      "text/latex": [
       "$\\displaystyle \\frac{\\sqrt{2}}{2 \\sqrt{\\pi} \\sigma_{1}} e^{\\frac{\\left(-1\\right) \\left(I - \\mu_{1}\\right)^{2}}{2 \\sigma_{1}^{2}}}$"
      ],
      "text/plain": [
       "(sqrt(2)/(2*sqrt(pi)*sigma_1))*exp((-(I - mu_1)**2)/((2*sigma_1**2)))"
      ]
     },
     "metadata": {},
     "output_type": "display_data"
    },
    {
     "name": "stdout",
     "output_type": "stream",
     "text": [
      "\\frac{\\sqrt{2}}{2 \\sqrt{\\pi} \\sigma_{1}} e^{\\frac{\\left(-1\\right) \\left(I - \\mu_{1}\\right)^{2}}{2 \\sigma_{1}^{2}}}\n"
     ]
    },
    {
     "data": {
      "text/latex": [
       "$\\displaystyle \\frac{\\sqrt{2}}{2 \\sqrt{\\pi} \\sigma_{2}} e^{\\frac{\\left(-1\\right) \\left(I - \\mu_{2}\\right)^{2}}{2 \\sigma_{2}^{2}}}$"
      ],
      "text/plain": [
       "(sqrt(2)/(2*sqrt(pi)*sigma_2))*exp((-(I - mu_2)**2)/((2*sigma_2**2)))"
      ]
     },
     "metadata": {},
     "output_type": "display_data"
    },
    {
     "name": "stdout",
     "output_type": "stream",
     "text": [
      "\\frac{\\sqrt{2}}{2 \\sqrt{\\pi} \\sigma_{2}} e^{\\frac{\\left(-1\\right) \\left(I - \\mu_{2}\\right)^{2}}{2 \\sigma_{2}^{2}}}\n"
     ]
    },
    {
     "data": {
      "text/latex": [
       "$\\displaystyle - \\frac{\\sqrt{2} a_{1} e^{\\frac{\\left(-1\\right) \\left(I - \\mu_{1}\\right)^{2}}{2 \\sigma_{1}^{2}}}}{2 \\sqrt{\\pi} \\sigma_{1}^{2}} + \\frac{a_{1} \\frac{\\sqrt{2}}{2 \\sqrt{\\pi} \\sigma_{1}} \\left(I - \\mu_{1}\\right)^{2} e^{\\frac{\\left(-1\\right) \\left(I - \\mu_{1}\\right)^{2}}{2 \\sigma_{1}^{2}}}}{\\sigma_{1}^{3}}$"
      ],
      "text/plain": [
       "-sqrt(2)*a_1*exp((-(I - mu_1)**2)/((2*sigma_1**2)))/(2*sqrt(pi)*sigma_1**2) + a_1*(sqrt(2)/(2*sqrt(pi)*sigma_1))*(I - mu_1)**2*exp((-(I - mu_1)**2)/((2*sigma_1**2)))/sigma_1**3"
      ]
     },
     "metadata": {},
     "output_type": "display_data"
    },
    {
     "name": "stdout",
     "output_type": "stream",
     "text": [
      "- \\frac{\\sqrt{2} a_{1} e^{\\frac{\\left(-1\\right) \\left(I - \\mu_{1}\\right)^{2}}{2 \\sigma_{1}^{2}}}}{2 \\sqrt{\\pi} \\sigma_{1}^{2}} + \\frac{a_{1} \\frac{\\sqrt{2}}{2 \\sqrt{\\pi} \\sigma_{1}} \\left(I - \\mu_{1}\\right)^{2} e^{\\frac{\\left(-1\\right) \\left(I - \\mu_{1}\\right)^{2}}{2 \\sigma_{1}^{2}}}}{\\sigma_{1}^{3}}\n"
     ]
    },
    {
     "data": {
      "text/latex": [
       "$\\displaystyle - \\frac{\\sqrt{2} a_{2} e^{\\frac{\\left(-1\\right) \\left(I - \\mu_{2}\\right)^{2}}{2 \\sigma_{2}^{2}}}}{2 \\sqrt{\\pi} \\sigma_{2}^{2}} + \\frac{a_{2} \\frac{\\sqrt{2}}{2 \\sqrt{\\pi} \\sigma_{2}} \\left(I - \\mu_{2}\\right)^{2} e^{\\frac{\\left(-1\\right) \\left(I - \\mu_{2}\\right)^{2}}{2 \\sigma_{2}^{2}}}}{\\sigma_{2}^{3}}$"
      ],
      "text/plain": [
       "-sqrt(2)*a_2*exp((-(I - mu_2)**2)/((2*sigma_2**2)))/(2*sqrt(pi)*sigma_2**2) + a_2*(sqrt(2)/(2*sqrt(pi)*sigma_2))*(I - mu_2)**2*exp((-(I - mu_2)**2)/((2*sigma_2**2)))/sigma_2**3"
      ]
     },
     "metadata": {},
     "output_type": "display_data"
    },
    {
     "name": "stdout",
     "output_type": "stream",
     "text": [
      "- \\frac{\\sqrt{2} a_{2} e^{\\frac{\\left(-1\\right) \\left(I - \\mu_{2}\\right)^{2}}{2 \\sigma_{2}^{2}}}}{2 \\sqrt{\\pi} \\sigma_{2}^{2}} + \\frac{a_{2} \\frac{\\sqrt{2}}{2 \\sqrt{\\pi} \\sigma_{2}} \\left(I - \\mu_{2}\\right)^{2} e^{\\frac{\\left(-1\\right) \\left(I - \\mu_{2}\\right)^{2}}{2 \\sigma_{2}^{2}}}}{\\sigma_{2}^{3}}\n"
     ]
    },
    {
     "data": {
      "text/latex": [
       "$\\displaystyle \\frac{a_{1} \\frac{\\sqrt{2}}{2 \\sqrt{\\pi} \\sigma_{1}} \\left(2 I - 2 \\mu_{1}\\right) e^{\\frac{\\left(-1\\right) \\left(I - \\mu_{1}\\right)^{2}}{2 \\sigma_{1}^{2}}}}{2 \\sigma_{1}^{2}}$"
      ],
      "text/plain": [
       "a_1*(sqrt(2)/(2*sqrt(pi)*sigma_1))*(2*I - 2*mu_1)*exp((-(I - mu_1)**2)/((2*sigma_1**2)))/(2*sigma_1**2)"
      ]
     },
     "metadata": {},
     "output_type": "display_data"
    },
    {
     "name": "stdout",
     "output_type": "stream",
     "text": [
      "\\frac{a_{1} \\frac{\\sqrt{2}}{2 \\sqrt{\\pi} \\sigma_{1}} \\left(2 I - 2 \\mu_{1}\\right) e^{\\frac{\\left(-1\\right) \\left(I - \\mu_{1}\\right)^{2}}{2 \\sigma_{1}^{2}}}}{2 \\sigma_{1}^{2}}\n"
     ]
    },
    {
     "data": {
      "text/latex": [
       "$\\displaystyle \\frac{a_{2} \\frac{\\sqrt{2}}{2 \\sqrt{\\pi} \\sigma_{2}} \\left(2 I - 2 \\mu_{2}\\right) e^{\\frac{\\left(-1\\right) \\left(I - \\mu_{2}\\right)^{2}}{2 \\sigma_{2}^{2}}}}{2 \\sigma_{2}^{2}}$"
      ],
      "text/plain": [
       "a_2*(sqrt(2)/(2*sqrt(pi)*sigma_2))*(2*I - 2*mu_2)*exp((-(I - mu_2)**2)/((2*sigma_2**2)))/(2*sigma_2**2)"
      ]
     },
     "metadata": {},
     "output_type": "display_data"
    },
    {
     "name": "stdout",
     "output_type": "stream",
     "text": [
      "\\frac{a_{2} \\frac{\\sqrt{2}}{2 \\sqrt{\\pi} \\sigma_{2}} \\left(2 I - 2 \\mu_{2}\\right) e^{\\frac{\\left(-1\\right) \\left(I - \\mu_{2}\\right)^{2}}{2 \\sigma_{2}^{2}}}}{2 \\sigma_{2}^{2}}\n"
     ]
    }
   ],
   "source": [
    "from typing import List\n",
    "\n",
    "f = nmp_util.SympyFunctionalModel(f_expr, parameter_symbols, I)\n",
    "\n",
    "\n",
    "\n",
    "models : List[nmp_util.SympyFunctionalModel] = []\n",
    "\n",
    "def log(model : nmp_util.SympyFunctionalModel):\n",
    "    print(f'Itaration:{model.iterations:2d}, m_0: {model.m_0:.10f}')\n",
    "    # store these for a later exercise\n",
    "    models.append(model.copy())\n",
    "    \n",
    "f.logger = log\n",
    "\n",
    "for p in f.differential_expressions:\n",
    "    display(p)\n",
    "    print(sympy.latex(p))"
   ]
  },
  {
   "cell_type": "code",
   "execution_count": 8,
   "id": "246f6c6d",
   "metadata": {},
   "outputs": [
    {
     "name": "stdout",
     "output_type": "stream",
     "text": [
      "Itaration: 1, m_0: 5.1459459481\n",
      "Itaration: 2, m_0: 2.4214154452\n",
      "Itaration: 3, m_0: 1.9989849978\n",
      "Itaration: 4, m_0: 1.9873981444\n",
      "Itaration: 5, m_0: 1.9870631055\n",
      "Itaration: 6, m_0: 1.9870506615\n",
      "Itaration: 7, m_0: 1.9870502009\n",
      "Itaration: 8, m_0: 1.9870501838\n",
      "Itaration: 9, m_0: 1.9870501832\n",
      "Itaration:10, m_0: 1.9870501832\n"
     ]
    }
   ],
   "source": [
    "sigma_0 = 1\n",
    "\n",
    "cofactor_matrix = np.diag(data['s_z'].to_numpy()**2) / sigma_0**2\n",
    "weight_matrix = sparse.dia_matrix(np.linalg.inv(cofactor_matrix))\n",
    "# the default values are given in the exercise, except for a_0, simply chose 0 for a_0 and see if this converges\n",
    "f.parameters = np.array([0, 50, 50, 0.05, 0.05, 0.3, 0.6])\n",
    "\n",
    "f.fit(data['I'], data['z'], weight_matrix)"
   ]
  },
  {
   "cell_type": "code",
   "execution_count": 9,
   "id": "9a02e044",
   "metadata": {},
   "outputs": [
    {
     "name": "stdout",
     "output_type": "stream",
     "text": [
      "chi statistic for alpha = 5%\n",
      "1.9870501831782668\n",
      "22\n",
      "functional model : 3.9483684304687836\n",
      "critical value : 1.542019930520173\n"
     ]
    }
   ],
   "source": [
    "print(f'chi statistic for alpha = 5%')\n",
    "print(f.m_0 / sigma_0)\n",
    "print(f.dof)\n",
    "print(f'functional model : {f.m_0**2 / sigma_0**2}')\n",
    "print(f'critical value : {f.chi2_threshold(0.05)}')"
   ]
  },
  {
   "cell_type": "code",
   "execution_count": 10,
   "id": "37c0248d",
   "metadata": {},
   "outputs": [
    {
     "name": "stdout",
     "output_type": "stream",
     "text": [
      "parameters:\n",
      "$\\mathtt{\\text{a\\_\\{0\\}}} = 23.255 \\pm 2.626$\n",
      "$\\mathtt{\\text{a\\_\\{1\\}}} = 79.125 \\pm 2.732$\n",
      "$\\mathtt{\\text{a\\_\\{2\\}}} = 16.997 \\pm 1.090$\n",
      "$\\mathtt{\\text{\\textbackslashsigma\\_\\{1\\}}} = 0.113 \\pm 0.004$\n",
      "$\\mathtt{\\text{\\textbackslashsigma\\_\\{2\\}}} = 0.027 \\pm 0.002$\n",
      "$\\mathtt{\\text{\\textbackslashmu\\_\\{1\\}}} = 0.309 \\pm 0.004$\n",
      "$\\mathtt{\\text{\\textbackslashmu\\_\\{2\\}}} = 0.606 \\pm 0.002$\n",
      "parameter correlation matrix\n"
     ]
    },
    {
     "data": {
      "image/png": "[encoded data removed]",
      "text/plain": [
       "<Figure size 480x480 with 2 Axes>"
      ]
     },
     "metadata": {},
     "output_type": "display_data"
    }
   ],
   "source": [
    "print(f'parameters:')\n",
    "f.print_parameters_latex()\n",
    "print(f'parameter correlation matrix')\n",
    "f.show_correlation()\n",
    "plt.show()"
   ]
  },
  {
   "cell_type": "code",
   "execution_count": 11,
   "id": "b922fd5b",
   "metadata": {},
   "outputs": [
    {
     "data": {
      "image/png": "[encoded data removed]",
      "text/plain": [
       "<Figure size 640x480 with 1 Axes>"
      ]
     },
     "metadata": {},
     "output_type": "display_data"
    }
   ],
   "source": [
    "f.plot()\n",
    "plt.xlabel('I [A]')\n",
    "plt.ylabel('z [1/min]')\n",
    "plt.show()"
   ]
  },
  {
   "cell_type": "code",
   "execution_count": 12,
   "id": "b6371e7c",
   "metadata": {},
   "outputs": [
    {
     "name": "stdout",
     "output_type": "stream",
     "text": [
      "I = 0.050\n",
      "z = 43.025 +- 3.370\n",
      "\n",
      "I = 0.120\n",
      "z = 91.456 +- 6.037\n",
      "\n",
      "\\frac{\\sqrt{2} a_{1}}{2 \\sqrt{\\pi} \\sigma_{1}}\n",
      "factor = 280.302 +- 8.402\n"
     ]
    }
   ],
   "source": [
    "def evaluate(I_val):\n",
    "    z = f.eval(I_val)\n",
    "    z_err = f.eval_stderr(I_val, sigma = f.m_0)[0]\n",
    "    print(f'I = {I_val:.3f}')\n",
    "    print(f'z = {z:.3f} +- {z_err:.3f}')\n",
    "\n",
    "evaluate(data['I'].iloc[0])\n",
    "print()\n",
    "evaluate(0.12)\n",
    "print()\n",
    "\n",
    "factor_expr = a_1 / (sqrt2pi * sigma_1)\n",
    "\n",
    "print(sympy.latex(factor_expr))\n",
    "\n",
    "factor, factor_cov = nmp_util.propagate_error(factor_expr, parameter_symbols, f.parameters, f.m_0**2 * f.parameter_cof())\n",
    "factor_err = factor_cov[0,0]**0.5\n",
    "print(f'factor = {factor:.3f} +- {factor_err:.3f}')"
   ]
  },
  {
   "cell_type": "code",
   "execution_count": 13,
   "id": "8c3cdefd",
   "metadata": {},
   "outputs": [
    {
     "data": {
      "image/png": "[encoded data removed]",
      "text/plain": [
       "<Figure size 640x480 with 1 Axes>"
      ]
     },
     "metadata": {},
     "output_type": "display_data"
    }
   ],
   "source": [
    "true_residuals = f.residuals\n",
    "linearized_residuals = f.A @ f.parameters - f.y\n",
    "i = 8\n",
    "\n",
    "other_model = models[i]\n",
    "\n",
    "# this checks if the design matrix is a good taylor approximation\n",
    "linearized_residuals = other_model.residuals - other_model.A @ (f.parameters - other_model.parameters)\n",
    "\n",
    "# i+1 because we the first iteration is 1, but the arrays are 0-indexed\n",
    "plt.title('Deviations from the true residual at the last iteration (i = 10)')\n",
    "plt.scatter(f.x, true_residuals-linearized_residuals, marker='o', label = f'linearized residuals')\n",
    "plt.scatter(f.x, true_residuals-true_residuals,marker = '.', label = f'true residuals (i = {len(models)})')\n",
    "plt.scatter(f.x, true_residuals-other_model.residuals,marker ='x', label = f'residuals (i = {i+1})')\n",
    "plt.xlabel('I [A]')\n",
    "plt.ylabel('$\\\\Delta v$ [1/min]')\n",
    "plt.legend()\n",
    "plt.show()"
   ]
  },
  {
   "cell_type": "code",
   "execution_count": 14,
   "id": "f9ff98a7",
   "metadata": {},
   "outputs": [
    {
     "name": "stdout",
     "output_type": "stream",
     "text": [
      "0.9905262690304636\n",
      "no outliers detected: True\n"
     ]
    },
    {
     "data": {
      "image/png": "[encoded data removed]",
      "text/plain": [
       "<Figure size 640x480 with 1 Axes>"
      ]
     },
     "metadata": {},
     "output_type": "display_data"
    }
   ],
   "source": [
    "residual_covariance = f.m_0**2 * (cofactor_matrix - f.eval_cof(f.x))\n",
    "\n",
    "normalized_residuals = f.residuals / np.diag(residual_covariance)**0.5\n",
    "plt.scatter(data['I'], normalized_residuals, label = 'normalized residuals')\n",
    "\n",
    "plt.xlabel('I [A]')\n",
    "plt.ylabel('$v_i / \\\\sigma_i$')\n",
    "plt.legend()\n",
    "print(normalized_residuals.std(ddof=1))\n",
    "\n",
    "print(f'no outliers detected: {nmp_util.get_inliers(normalized_residuals).all()}')"
   ]
  }
 ],
 "metadata": {
  "kernelspec": {
   "display_name": ".venv (3.13.2)",
   "language": "python",
   "name": "python3"
  },
  "language_info": {
   "codemirror_mode": {
    "name": "ipython",
    "version": 3
   },
   "file_extension": ".py",
   "mimetype": "text/x-python",
   "name": "python",
   "nbconvert_exporter": "python",
   "pygments_lexer": "ipython3",
   "version": "3.13.2"
  }
 },
 "nbformat": 4,
 "nbformat_minor": 5
}
