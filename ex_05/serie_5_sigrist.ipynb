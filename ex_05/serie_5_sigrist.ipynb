{
 "cells": [
  {
   "cell_type": "code",
   "execution_count": 2,
   "id": "2e396e20",
   "metadata": {},
   "outputs": [],
   "source": [
    "import numpy as np\n",
    "import pandas as pd"
   ]
  },
  {
   "cell_type": "code",
   "execution_count": null,
   "id": "ea96e104",
   "metadata": {},
   "outputs": [
    {
     "data": {
      "application/vnd.microsoft.datawrangler.viewer.v0+json": {
       "columns": [
        {
         "name": "index",
         "rawType": "int64",
         "type": "integer"
        },
        {
         "name": "dmjd",
         "rawType": "float64",
         "type": "float"
        },
        {
         "name": "R_lin",
         "rawType": "float64",
         "type": "float"
        },
        {
         "name": "S_lin",
         "rawType": "float64",
         "type": "float"
        },
        {
         "name": "W_lin",
         "rawType": "float64",
         "type": "float"
        },
        {
         "name": "R_ang",
         "rawType": "float64",
         "type": "float"
        },
        {
         "name": "S_ang",
         "rawType": "float64",
         "type": "float"
        },
        {
         "name": "W_ang",
         "rawType": "float64",
         "type": "float"
        }
       ],
       "conversionMethod": "pd.DataFrame",
       "ref": "6384e743-2f9e-4cff-a114-36f28e397e37",
       "rows": [
        [
         "0",
         "0.0",
         "1.057602899e-05",
         "4.805743093e-05",
         "-3.12957298e-06",
         "0.30101497488604",
         "-0.32968110365114",
         "-0.03937798849611"
        ],
        [
         "1",
         "1.157407407e-05",
         "1.055343082e-05",
         "4.803455722e-05",
         "-3.16369017e-06",
         "0.30105457428132",
         "-0.32976879953195",
         "-0.03936487632621"
        ],
        [
         "2",
         "2.314814815e-05",
         "1.05341895e-05",
         "4.800962844e-05",
         "-3.19454315e-06",
         "0.30103393435159",
         "-0.32956730460378",
         "-0.03939123279138"
        ],
        [
         "3",
         "3.472222222e-05",
         "1.052230237e-05",
         "4.798301581e-05",
         "-3.22127906e-06",
         "0.30104369673311",
         "-0.32978864478449",
         "-0.03938649159103"
        ],
        [
         "4",
         "4.62962963e-05",
         "1.052168008e-05",
         "4.795523425e-05",
         "-3.24275497e-06",
         "0.30106449278704",
         "-0.32983075232328",
         "-0.03939264465128"
        ],
        [
         "5",
         "5.787037037e-05",
         "1.053584041e-05",
         "4.792695313e-05",
         "-3.25762405e-06",
         "0.30111889133677",
         "-0.32965517227819",
         "-0.03940588018026"
        ],
        [
         "6",
         "6.944444444e-05",
         "1.056760062e-05",
         "4.789899061e-05",
         "-3.26445637e-06",
         "0.30108355553091",
         "-0.32937601117607",
         "-0.03942933742608"
        ],
        [
         "7",
         "8.101851852e-05",
         "1.061879587e-05",
         "4.787229222e-05",
         "-3.26187596e-06",
         "0.30104469701197",
         "-0.32970903579074",
         "-0.03939332824147"
        ],
        [
         "8",
         "9.259259259e-05",
         "1.06900535e-05",
         "4.784789361e-05",
         "-3.24870125e-06",
         "0.30104516332171",
         "-0.32951875367178",
         "-0.03944010689358"
        ],
        [
         "9",
         "0.00010416666667",
         "1.078065006e-05",
         "4.782686949e-05",
         "-3.22408762e-06",
         "0.30102665304499",
         "-0.32975160529148",
         "-0.03939628636218"
        ],
        [
         "10",
         "0.00011574074074",
         "1.088846584e-05",
         "4.781027456e-05",
         "-3.18765049e-06",
         "0.30107229587217",
         "-0.32963950129661",
         "-0.03924457500673"
        ],
        [
         "11",
         "0.00012731481481",
         "1.10100534e-05",
         "4.779908106e-05",
         "-3.13955938e-06",
         "0.30105861869436",
         "-0.3300581677808",
         "-0.03950770588783"
        ],
        [
         "12",
         "0.00013888888889",
         "1.114083538e-05",
         "4.779411595e-05",
         "-3.08059201e-06",
         "0.30109994769889",
         "-0.32998861036259",
         "-0.03928913101095"
        ],
        [
         "13",
         "0.00015046296296",
         "1.127539734e-05",
         "4.779600938e-05",
         "-3.01214007e-06",
         "0.30107553163679",
         "-0.32992011198579",
         "-0.03920185095508"
        ],
        [
         "14",
         "0.00016203703704",
         "1.140786288e-05",
         "4.780515726e-05",
         "-2.93616956e-06",
         "0.30106765052676",
         "-0.32986811055382",
         "-0.03936726891702"
        ],
        [
         "15",
         "0.00017361111111",
         "1.153234324e-05",
         "4.782169686e-05",
         "-2.8551305e-06",
         "0.30104495245108",
         "-0.32996565647351",
         "-0.03942420685902"
        ],
        [
         "16",
         "0.00018518518519",
         "1.164340317e-05",
         "4.784550132e-05",
         "-2.77182245e-06",
         "0.30102292376657",
         "-0.329925404832",
         "-0.03939008510087"
        ],
        [
         "17",
         "0.00019675925926",
         "1.173650161e-05",
         "4.787619362e-05",
         "-2.68922936e-06",
         "0.3010453301309",
         "-0.32982392964711",
         "-0.03939431266858"
        ],
        [
         "18",
         "0.00020833333333",
         "1.180837665e-05",
         "4.791317518e-05",
         "-2.61033709e-06",
         "0.30103788787383",
         "-0.32974520052611",
         "-0.03932364147617"
        ],
        [
         "19",
         "0.00021990740741",
         "1.185733663e-05",
         "4.795566663e-05",
         "-2.53794527e-06",
         "0.30105275703487",
         "-0.32980765580332",
         "-0.03927229271364"
        ],
        [
         "20",
         "0.00023148148148",
         "1.18834271e-05",
         "4.800275653e-05",
         "-2.47449047e-06",
         "0.30110979547578",
         "-0.3299433378359",
         "-0.03925925133419"
        ],
        [
         "21",
         "0.00024305555556",
         "1.188846062e-05",
         "4.805345192e-05",
         "-2.42189627e-06",
         "0.30105820877603",
         "-0.32985631857116",
         "-0.03932327985263"
        ],
        [
         "22",
         "0.00025462962963",
         "1.187590301e-05",
         "4.810672688e-05",
         "-2.38146012e-06",
         "0.30100542512274",
         "-0.32971763464318",
         "-0.03938829850349"
        ],
        [
         "23",
         "0.0002662037037",
         "1.185062265e-05",
         "4.816156553e-05",
         "-2.35378729e-06",
         "0.3010425866148",
         "-0.32967251461209",
         "-0.0393988145146"
        ],
        [
         "24",
         "0.00027777777778",
         "1.181852176e-05",
         "4.82169973e-05",
         "-2.33878018e-06",
         "0.30110081265072",
         "-0.32963664122566",
         "-0.03944901373676"
        ],
        [
         "25",
         "0.00028935185185",
         "1.178608462e-05",
         "4.827212246e-05",
         "-2.33568274e-06",
         "0.30110091129725",
         "-0.32974644253694",
         "-0.03939190873157"
        ],
        [
         "26",
         "0.00030092592593",
         "1.17598743e-05",
         "4.832612947e-05",
         "-2.3431665e-06",
         "0.30104461566071",
         "-0.32971258564979",
         "-0.03926918007992"
        ],
        [
         "27",
         "0.0003125",
         "1.174602004e-05",
         "4.837830571e-05",
         "-2.35945754e-06",
         "0.3010762185155",
         "-0.32940586674715",
         "-0.03946417408624"
        ],
        [
         "28",
         "0.00032407407407",
         "1.174975463e-05",
         "4.842803846e-05",
         "-2.38249716e-06",
         "0.30102811494518",
         "-0.32995890823033",
         "-0.03945673877619"
        ],
        [
         "29",
         "0.00033564814815",
         "1.177502294e-05",
         "4.84748132e-05",
         "-2.4101087e-06",
         "0.30105127282722",
         "-0.32972926193737",
         "-0.0392500657459"
        ],
        [
         "30",
         "0.00034722222222",
         "1.182418405e-05",
         "4.851821247e-05",
         "-2.44016753e-06",
         "0.30106572121292",
         "-0.32985211200279",
         "-0.0393523776395"
        ],
        [
         "31",
         "0.0003587962963",
         "1.18978553e-05",
         "4.855791038e-05",
         "-2.47076121e-06",
         "0.30105787117144",
         "-0.32970071005223",
         "-0.03939228916327"
        ],
        [
         "32",
         "0.00037037037037",
         "1.199489903e-05",
         "4.85936669e-05",
         "-2.50031634e-06",
         "0.30101446483585",
         "-0.32973423861649",
         "-0.03938192808822"
        ],
        [
         "33",
         "0.00038194444444",
         "1.211253662e-05",
         "4.862532438e-05",
         "-2.52768914e-06",
         "0.30106451070225",
         "-0.32989533649149",
         "-0.03932084608877"
        ],
        [
         "34",
         "0.00039351851852",
         "1.224658414e-05",
         "4.865280516e-05",
         "-2.55221204e-06",
         "0.30107251922608",
         "-0.32987470565623",
         "-0.03932046490321"
        ],
        [
         "35",
         "0.00040509259259",
         "1.239178735e-05",
         "4.867610738e-05",
         "-2.573696e-06",
         "0.30105363167538",
         "-0.32985942930752",
         "-0.03940561577271"
        ],
        [
         "36",
         "0.00041666666667",
         "1.254222823e-05",
         "4.869529786e-05",
         "-2.59238722e-06",
         "0.30103688899228",
         "-0.32983684766457",
         "-0.03941374221866"
        ],
        [
         "37",
         "0.00042824074074",
         "1.269175762e-05",
         "4.871050332e-05",
         "-2.60888639e-06",
         "0.30103029446282",
         "-0.32993874054669",
         "-0.03928142141171"
        ],
        [
         "38",
         "0.00043981481481",
         "1.283441854e-05",
         "4.87218994e-05",
         "-2.6240398e-06",
         "0.30108702959275",
         "-0.33004012785507",
         "-0.03932420192139"
        ],
        [
         "39",
         "0.00045138888889",
         "1.29648375e-05",
         "4.872969471e-05",
         "-2.6388135e-06",
         "0.30105556126663",
         "-0.3298422377401",
         "-0.03931039457112"
        ],
        [
         "40",
         "0.00046296296296",
         "1.30785516e-05",
         "4.873411148e-05",
         "-2.65416561e-06",
         "0.30110406830944",
         "-0.3299263178793",
         "-0.03939451986165"
        ],
        [
         "41",
         "0.00047453703704",
         "1.317224871e-05",
         "4.87353656e-05",
         "-2.67092499e-06",
         "0.3010858207526",
         "-0.32989010911792",
         "-0.03934590337403"
        ],
        [
         "42",
         "0.00048611111111",
         "1.324390988e-05",
         "4.873364842e-05",
         "-2.68968946e-06",
         "0.30107837239528",
         "-0.32963276765826",
         "-0.03938232085092"
        ],
        [
         "43",
         "0.00049768518519",
         "1.329284869e-05",
         "4.872911391e-05",
         "-2.71075592e-06",
         "0.30104378242503",
         "-0.32993042393121",
         "-0.03919529754631"
        ],
        [
         "44",
         "0.00050925925926",
         "1.331965182e-05",
         "4.872187533e-05",
         "-2.73407909e-06",
         "0.30105373752395",
         "-0.33029340500032",
         "-0.03922623148336"
        ],
        [
         "45",
         "0.00052083333333",
         "1.332604254e-05",
         "4.87120108e-05",
         "-2.75926282e-06",
         "0.30098651618342",
         "-0.32992845633132",
         "-0.03935319017399"
        ],
        [
         "46",
         "0.00053240740741",
         "1.331468638e-05",
         "4.869957847e-05",
         "-2.78559531e-06",
         "0.30104545793203",
         "-0.32953523082333",
         "-0.0394197830245"
        ],
        [
         "47",
         "0.00054398148148",
         "1.328894882e-05",
         "4.868464435e-05",
         "-2.81212094e-06",
         "0.30103536309781",
         "-0.3297743632082",
         "-0.03935027163777"
        ],
        [
         "48",
         "0.00055555555556",
         "1.325262797e-05",
         "4.866732174e-05",
         "-2.83772686e-06",
         "0.3009810030111",
         "-0.33016910542031",
         "-0.03930042543449"
        ],
        [
         "49",
         "0.00056712962963",
         "1.320969043e-05",
         "4.864781682e-05",
         "-2.8612358e-06",
         "0.30100639086843",
         "-0.32991806865698",
         "-0.03936333503584"
        ]
       ],
       "shape": {
        "columns": 7,
        "rows": 86399
       }
      },
      "text/html": [
       "<div>\n",
       "<style scoped>\n",
       "    .dataframe tbody tr th:only-of-type {\n",
       "        vertical-align: middle;\n",
       "    }\n",
       "\n",
       "    .dataframe tbody tr th {\n",
       "        vertical-align: top;\n",
       "    }\n",
       "\n",
       "    .dataframe thead th {\n",
       "        text-align: right;\n",
       "    }\n",
       "</style>\n",
       "<table border=\"1\" class=\"dataframe\">\n",
       "  <thead>\n",
       "    <tr style=\"text-align: right;\">\n",
       "      <th></th>\n",
       "      <th>dmjd</th>\n",
       "      <th>R_lin</th>\n",
       "      <th>S_lin</th>\n",
       "      <th>W_lin</th>\n",
       "      <th>R_ang</th>\n",
       "      <th>S_ang</th>\n",
       "      <th>W_ang</th>\n",
       "    </tr>\n",
       "  </thead>\n",
       "  <tbody>\n",
       "    <tr>\n",
       "      <th>0</th>\n",
       "      <td>0.000000</td>\n",
       "      <td>0.000011</td>\n",
       "      <td>0.000048</td>\n",
       "      <td>-0.000003</td>\n",
       "      <td>0.301015</td>\n",
       "      <td>-0.329681</td>\n",
       "      <td>-0.039378</td>\n",
       "    </tr>\n",
       "    <tr>\n",
       "      <th>1</th>\n",
       "      <td>0.000012</td>\n",
       "      <td>0.000011</td>\n",
       "      <td>0.000048</td>\n",
       "      <td>-0.000003</td>\n",
       "      <td>0.301055</td>\n",
       "      <td>-0.329769</td>\n",
       "      <td>-0.039365</td>\n",
       "    </tr>\n",
       "    <tr>\n",
       "      <th>2</th>\n",
       "      <td>0.000023</td>\n",
       "      <td>0.000011</td>\n",
       "      <td>0.000048</td>\n",
       "      <td>-0.000003</td>\n",
       "      <td>0.301034</td>\n",
       "      <td>-0.329567</td>\n",
       "      <td>-0.039391</td>\n",
       "    </tr>\n",
       "    <tr>\n",
       "      <th>3</th>\n",
       "      <td>0.000035</td>\n",
       "      <td>0.000011</td>\n",
       "      <td>0.000048</td>\n",
       "      <td>-0.000003</td>\n",
       "      <td>0.301044</td>\n",
       "      <td>-0.329789</td>\n",
       "      <td>-0.039386</td>\n",
       "    </tr>\n",
       "    <tr>\n",
       "      <th>4</th>\n",
       "      <td>0.000046</td>\n",
       "      <td>0.000011</td>\n",
       "      <td>0.000048</td>\n",
       "      <td>-0.000003</td>\n",
       "      <td>0.301064</td>\n",
       "      <td>-0.329831</td>\n",
       "      <td>-0.039393</td>\n",
       "    </tr>\n",
       "    <tr>\n",
       "      <th>...</th>\n",
       "      <td>...</td>\n",
       "      <td>...</td>\n",
       "      <td>...</td>\n",
       "      <td>...</td>\n",
       "      <td>...</td>\n",
       "      <td>...</td>\n",
       "      <td>...</td>\n",
       "    </tr>\n",
       "    <tr>\n",
       "      <th>86394</th>\n",
       "      <td>0.999931</td>\n",
       "      <td>0.000011</td>\n",
       "      <td>0.000007</td>\n",
       "      <td>-0.000012</td>\n",
       "      <td>0.301017</td>\n",
       "      <td>-0.329934</td>\n",
       "      <td>-0.039382</td>\n",
       "    </tr>\n",
       "    <tr>\n",
       "      <th>86395</th>\n",
       "      <td>0.999942</td>\n",
       "      <td>0.000011</td>\n",
       "      <td>0.000007</td>\n",
       "      <td>-0.000012</td>\n",
       "      <td>0.300989</td>\n",
       "      <td>-0.329819</td>\n",
       "      <td>-0.039438</td>\n",
       "    </tr>\n",
       "    <tr>\n",
       "      <th>86396</th>\n",
       "      <td>0.999954</td>\n",
       "      <td>0.000011</td>\n",
       "      <td>0.000007</td>\n",
       "      <td>-0.000012</td>\n",
       "      <td>0.300978</td>\n",
       "      <td>-0.329556</td>\n",
       "      <td>-0.039427</td>\n",
       "    </tr>\n",
       "    <tr>\n",
       "      <th>86397</th>\n",
       "      <td>0.999965</td>\n",
       "      <td>0.000011</td>\n",
       "      <td>0.000007</td>\n",
       "      <td>-0.000012</td>\n",
       "      <td>0.300958</td>\n",
       "      <td>-0.329908</td>\n",
       "      <td>-0.039864</td>\n",
       "    </tr>\n",
       "    <tr>\n",
       "      <th>86398</th>\n",
       "      <td>0.999977</td>\n",
       "      <td>0.000011</td>\n",
       "      <td>0.000007</td>\n",
       "      <td>-0.000012</td>\n",
       "      <td>0.300932</td>\n",
       "      <td>-0.330040</td>\n",
       "      <td>-0.039682</td>\n",
       "    </tr>\n",
       "  </tbody>\n",
       "</table>\n",
       "<p>86399 rows × 7 columns</p>\n",
       "</div>"
      ],
      "text/plain": [
       "           dmjd     R_lin     S_lin     W_lin     R_ang     S_ang     W_ang\n",
       "0      0.000000  0.000011  0.000048 -0.000003  0.301015 -0.329681 -0.039378\n",
       "1      0.000012  0.000011  0.000048 -0.000003  0.301055 -0.329769 -0.039365\n",
       "2      0.000023  0.000011  0.000048 -0.000003  0.301034 -0.329567 -0.039391\n",
       "3      0.000035  0.000011  0.000048 -0.000003  0.301044 -0.329789 -0.039386\n",
       "4      0.000046  0.000011  0.000048 -0.000003  0.301064 -0.329831 -0.039393\n",
       "...         ...       ...       ...       ...       ...       ...       ...\n",
       "86394  0.999931  0.000011  0.000007 -0.000012  0.301017 -0.329934 -0.039382\n",
       "86395  0.999942  0.000011  0.000007 -0.000012  0.300989 -0.329819 -0.039438\n",
       "86396  0.999954  0.000011  0.000007 -0.000012  0.300978 -0.329556 -0.039427\n",
       "86397  0.999965  0.000011  0.000007 -0.000012  0.300958 -0.329908 -0.039864\n",
       "86398  0.999977  0.000011  0.000007 -0.000012  0.300932 -0.330040 -0.039682\n",
       "\n",
       "[86399 rows x 7 columns]"
      ]
     },
     "metadata": {},
     "output_type": "display_data"
    },
    {
     "data": {
      "application/vnd.microsoft.datawrangler.viewer.v0+json": {
       "columns": [
        {
         "name": "index",
         "rawType": "int64",
         "type": "integer"
        },
        {
         "name": "mjd",
         "rawType": "float64",
         "type": "float"
        }
       ],
       "conversionMethod": "pd.DataFrame",
       "ref": "a6648a64-bee9-414b-bfb2-c9279c969441",
       "rows": [
        [
         "0",
         "54101.0"
        ]
       ],
       "shape": {
        "columns": 1,
        "rows": 1
       }
      },
      "text/html": [
       "<div>\n",
       "<style scoped>\n",
       "    .dataframe tbody tr th:only-of-type {\n",
       "        vertical-align: middle;\n",
       "    }\n",
       "\n",
       "    .dataframe tbody tr th {\n",
       "        vertical-align: top;\n",
       "    }\n",
       "\n",
       "    .dataframe thead th {\n",
       "        text-align: right;\n",
       "    }\n",
       "</style>\n",
       "<table border=\"1\" class=\"dataframe\">\n",
       "  <thead>\n",
       "    <tr style=\"text-align: right;\">\n",
       "      <th></th>\n",
       "      <th>mjd</th>\n",
       "    </tr>\n",
       "  </thead>\n",
       "  <tbody>\n",
       "    <tr>\n",
       "      <th>0</th>\n",
       "      <td>54101.0</td>\n",
       "    </tr>\n",
       "  </tbody>\n",
       "</table>\n",
       "</div>"
      ],
      "text/plain": [
       "       mjd\n",
       "0  54101.0"
      ]
     },
     "metadata": {},
     "output_type": "display_data"
    }
   ],
   "source": [
    "mjd = pd.read_csv('GRCAT07001ACC.sec', delimiter = r'\\s+', names = ['mjd'], skiprows = 8, nrows=1)\n",
    "data = pd.read_csv('GRCAT07001ACC.sec', delimiter = r'\\s+', names = ['dmjd','R_lin','S_lin','W_lin','R_ang','S_ang','W_ang'], skiprows = 9)\n",
    "display(mjd)\n",
    "display(data)\n",
    "data.plot(x='dmjd')\n"
   ]
  },
  {
   "cell_type": "code",
   "execution_count": null,
   "id": "bc898780",
   "metadata": {},
   "outputs": [
    {
     "data": {
      "text/plain": [
       "<Axes: xlabel='dmjd'>"
      ]
     },
     "execution_count": 12,
     "metadata": {},
     "output_type": "execute_result"
    },
    {
     "data": {
      "image/png": "[encoded data removed]",
      "text/plain": [
       "<Figure size 640x480 with 1 Axes>"
      ]
     },
     "metadata": {},
     "output_type": "display_data"
    }
   ],
   "source": []
  }
 ],
 "metadata": {
  "kernelspec": {
   "display_name": ".venv (3.13.2)",
   "language": "python",
   "name": "python3"
  },
  "language_info": {
   "codemirror_mode": {
    "name": "ipython",
    "version": 3
   },
   "file_extension": ".py",
   "mimetype": "text/x-python",
   "name": "python",
   "nbconvert_exporter": "python",
   "pygments_lexer": "ipython3",
   "version": "3.13.2"
  }
 },
 "nbformat": 4,
 "nbformat_minor": 5
}
